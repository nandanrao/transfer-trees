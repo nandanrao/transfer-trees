{
 "cells": [
  {
   "cell_type": "code",
   "execution_count": null,
   "metadata": {
    "autoscroll": false,
    "collapsed": false,
    "ein.hycell": false,
    "ein.tags": "worksheet-0",
    "slideshow": {
     "slide_type": "-"
    }
   },
   "outputs": [],
   "source": [
    "! pip install --user --upgrade scipy numba\n",
    "# ! pip install --user psutil"
   ]
  },
  {
   "cell_type": "code",
   "execution_count": 1,
   "metadata": {
    "autoscroll": false,
    "collapsed": false,
    "ein.hycell": false,
    "ein.tags": "worksheet-0",
    "slideshow": {
     "slide_type": "-"
    }
   },
   "outputs": [],
   "source": [
    "# TODO\n",
    "\n",
    "# 1.\n",
    "# Make non-linear in such a way that you cannot extrapolate to unseen P(Y,X)\n",
    "\n",
    "# 2. \n",
    "# Use importance estimation to extrapolate.\n",
    "\n",
    "# 3. \n",
    "# Show that when H|Z vs Z|H, extrapolation fails even with importance estimation. \n",
    "\n",
    "# 4\n",
    "# Make true model such that excluding variables should recover a model that is \"robust\" (P(X|H))"
   ]
  },
  {
   "cell_type": "code",
   "execution_count": 1,
   "metadata": {
    "autoscroll": false,
    "collapsed": false,
    "ein.hycell": false,
    "ein.tags": "worksheet-0",
    "slideshow": {
     "slide_type": "-"
    }
   },
   "outputs": [],
   "source": [
    "%load_ext autoreload\n",
    "%autoreload 2"
   ]
  },
  {
   "cell_type": "code",
   "execution_count": 2,
   "metadata": {
    "autoscroll": false,
    "collapsed": false,
    "ein.hycell": false,
    "ein.tags": "worksheet-0",
    "slideshow": {
     "slide_type": "-"
    }
   },
   "outputs": [],
   "source": [
    "from trees import TransferTreeRegressor, build_tree, Node\n",
    "from criteria import mse, transfer, causal_tree_criterion\n",
    "from sklearn.preprocessing import PolynomialFeatures\n",
    "from joblib import Parallel, delayed\n",
    "import pandas as pd\n",
    "\n",
    "import matplotlib.pyplot as plt\n",
    "plt.rcParams['figure.figsize'] = [10, 3]"
   ]
  },
  {
   "cell_type": "code",
   "execution_count": 3,
   "metadata": {
    "autoscroll": false,
    "collapsed": false,
    "ein.hycell": false,
    "ein.tags": "worksheet-0",
    "slideshow": {
     "slide_type": "-"
    }
   },
   "outputs": [],
   "source": [
    "def plot_dat(vars_):\n",
    "    f, axes = plt.subplots(len(vars_), 1, sharex=True, figsize=(20, 10))\n",
    "\n",
    "    for (H,title),ax in zip(vars_, axes):\n",
    "        for i,h in zip(['A', 'B', 'C', 'D'], H):\n",
    "            sns.distplot(h, label = i, ax=ax)\n",
    "        ax.legend()\n",
    "        ax.set_title(title)\n",
    "        \n",
    "    # plt.title(title)\n",
    "    # plt.show()\n"
   ]
  },
  {
   "cell_type": "code",
   "execution_count": 4,
   "metadata": {
    "autoscroll": false,
    "collapsed": false,
    "ein.hycell": false,
    "ein.tags": "worksheet-0",
    "slideshow": {
     "slide_type": "-"
    }
   },
   "outputs": [],
   "source": [
    "from trees import Leaf\n",
    "leaf = Leaf(0,0,0,0)\n",
    "\n",
    "def plot_split(node, X, tau, context_idxs):\n",
    "    idx = X[:, node.dim] > node.thresh\n",
    "    d = np.vstack([tau, idx, context_idxs]).T\n",
    "    df = pd.DataFrame(d, columns = ['tau', 'split', 'ctx'])\n",
    "\n",
    "    # sns.distplot(df)\n",
    "    g = sns.FacetGrid(df, row = 'split', hue = 'ctx', aspect=5.0)\n",
    "    g.map(sns.distplot, 'tau', bins=10, kde=False)\n",
    "    plt.legend()"
   ]
  },
  {
   "cell_type": "code",
   "execution_count": 5,
   "metadata": {
    "autoscroll": false,
    "collapsed": false,
    "ein.hycell": false,
    "ein.tags": "worksheet-0",
    "slideshow": {
     "slide_type": "-"
    }
   },
   "outputs": [],
   "source": [
    "import numpy as np\n",
    "from scipy.stats import gamma\n",
    "import seaborn as sns\n",
    "from copy import deepcopy\n",
    "\n",
    "# Y := f(H, W, X, Z, N_Y)\n",
    "# Y := f(W, X, Z, N_Y)\n",
    "def fn(h, v, z, w):\n",
    "    val = w*h + 0.5*w*z + np.random.normal(0, 0.5, size = h.shape[0])\n",
    "    return val\n",
    "\n",
    "\n",
    "def generate_data(N, fn, hidden_cause, plot, hiddens, v_conds, z_conds):\n",
    "    # H is latent variable, distribution changes (not )\n",
    "    H = [np.random.normal(loc=a, scale=b, size=N) for a,b in hiddens]\n",
    "\n",
    "    # V := f(H, N_X)\n",
    "    V = [c*h + np.random.normal(loc=a, scale=b, size=N) for h,(c,a,b) in zip(H, v_conds)]\n",
    "\n",
    "    # if hidden_cause: \n",
    "    # H -> V, H -> Y\n",
    "    # else:\n",
    "    # V -> H, H -> Y\n",
    "    if not hidden_cause:\n",
    "        V,H = deepcopy(H), deepcopy(V)\n",
    "\n",
    "    # Z = [gamma.rvs(int(np.random.normal(40, 10)), loc=0, scale=1, size=N) for h in H]\n",
    "    # Z := f(N_Z) \n",
    "    Z = [np.random.normal(loc=a, scale=b, size=N) for h,(a,b) in zip(H, z_conds)]\n",
    "\n",
    "    # W := f(N_W) -- TREATMENT\n",
    "    W = [np.random.binomial(1, 0.5, size=N) for h in H]\n",
    "\n",
    "    # Y:= fn(H, V, Z, W, N_Y)\n",
    "    Y = [fn(H[idx], V[idx], Z[idx], W[idx]) for idx in range(4)]\n",
    "\n",
    "    taus = [fn(h,v,z,1) - fn(h,v,z,0) for h,v,z in zip(H,V,Z)]\n",
    "    \n",
    "    if plot:\n",
    "        plot_dat([(H,'H'), (V, 'V') , (Z, 'Z'), (Y, 'Y'), (taus, 'tau')])\n",
    "\n",
    "    return [(y, np.array([w,v,z]).T, tau) for y,v,z,w,h,tau in zip(Y, V, Z, W, H, taus)]"
   ]
  },
  {
   "cell_type": "code",
   "execution_count": 6,
   "metadata": {
    "autoscroll": false,
    "collapsed": false,
    "ein.hycell": false,
    "ein.tags": "worksheet-0",
    "slideshow": {
     "slide_type": "-"
    }
   },
   "outputs": [],
   "source": [
    "from sklearn.metrics import mean_squared_error\n",
    "from numba import njit\n",
    "\n",
    "def flatten(a):\n",
    "    return np.array([y for x in a for y in x])\n",
    "\n",
    "\n",
    "def split_out_dat(dat):\n",
    "    phi = PolynomialFeatures(degree=1, include_bias=False).fit_transform\n",
    "    ys, Xs, taus = zip(*dat)\n",
    "\n",
    "    ys_source, Xs_source = np.concatenate(ys[:-1]), np.concatenate(Xs[:-1])\n",
    "    ys_target, Xs_target = ys[-1], Xs[-1]\n",
    "\n",
    "    phi_source = phi(Xs_source[:, 1:])\n",
    "    phi_target = phi(Xs_target[:, 1:])\n",
    "\n",
    "    treatment = Xs_source[:, 0]\n",
    "    N = ys[0].shape[0]\n",
    "\n",
    "    context_idxs = np.array([j for i,_ in enumerate(ys[:-1]) for j in [i]*N])\n",
    "\n",
    "    idx = np.arange(phi_source.shape[0])\n",
    "    np.random.shuffle(idx)\n",
    "\n",
    "    # print(phi_source.shape)\n",
    "    # print(ys_source.shape)\n",
    "    # print(treatment.shape)\n",
    "    # print(context_idxs.shape)\n",
    "\n",
    "    phi_source = phi_source[idx, :]\n",
    "    ys_source = ys_source[idx]\n",
    "    treatment = treatment[idx]\n",
    "    context_idxs = context_idxs[idx]\n",
    "    taus_source, taus_target = flatten(taus[:-1])[idx], taus[-1]\n",
    "\n",
    "    return phi_source, phi_target, ys_source, treatment, context_idxs, taus_source, taus_target\n",
    "\n",
    "def fit_models(phi_source, phi_target, ys_source, treatment, context_idxs, taus_source, taus_target):\n",
    "    causal_model = TransferTreeRegressor(criterion = causal_tree_criterion, \n",
    "                              max_depth = 3, \n",
    "                              min_samples_leaf = 10, \n",
    "                              honest= True, \n",
    "                              alpha = 0.0)\n",
    "\n",
    "    causal_model.fit(phi_source, \n",
    "                     ys_source, \n",
    "                     treatment=treatment,\n",
    "                     min_samples=25,\n",
    "                     var_weight=0.5)\n",
    "\n",
    "    # causal_model.set_best_tree()\n",
    "    causal_model.tree = causal_model.tree_path[0][1]\n",
    "\n",
    "    transfer_model = TransferTreeRegressor(criterion = transfer,\n",
    "                              max_depth = 3, \n",
    "                              min_samples_leaf = 10, \n",
    "                              honest= True, \n",
    "                              alpha = 0.0)\n",
    "\n",
    "    transfer_model.fit(phi_source, \n",
    "                       ys_source, \n",
    "                       treatment=treatment,\n",
    "                       context_idxs=context_idxs, \n",
    "                       target_X=phi_target,\n",
    "                       min_samples=25,\n",
    "                       mean_weight=0.025,\n",
    "                       var_weight=0.025,\n",
    "                       tau_var_weight=0.95,\n",
    "                       wasserstein_weight=0.0,\n",
    "                       importance=False)\n",
    "\n",
    "    # transfer_model.set_best_tree()\n",
    "    # transfer_model.tree\n",
    "    transfer_model.tree = transfer_model.tree_path[0][1]\n",
    "\n",
    "    tpreds = transfer_model.predict(phi_target, 0.95)\n",
    "    cpreds = causal_model.predict(phi_target, 0.95)\n",
    "\n",
    "    return (mean_squared_error(taus_target, tpreds[:, 0]), mean_squared_error(taus_target, cpreds[:, 0])), (tpreds, cpreds), (transfer_model, causal_model), (phi_source, phi_target, taus_source, taus_target, context_idxs)\n",
    "    "
   ]
  },
  {
   "cell_type": "code",
   "execution_count": 24,
   "metadata": {
    "autoscroll": false,
    "collapsed": false,
    "ein.hycell": false,
    "ein.tags": "worksheet-0",
    "slideshow": {
     "slide_type": "-"
    }
   },
   "outputs": [],
   "source": [
    "\n",
    "v_conds = [(0.5,0,1), (1,0,1), (1.5,0,1), (-0.5,0,1)]\n",
    "# v_conds = [(6,2,1)]*4\n",
    "# v_conds = [(25,0,1)]*4\n",
    "hiddens = [(10,1)]*4\n",
    "# hiddens = [(10, 2), (14, 2), (18, 2), (22, 3)]\n",
    "z_conds = [(2,2), (4,2), (6,2), (0,2)]\n",
    "\n",
    "\n",
    "# z_conds = [(3, 1, 4), (3, 1, 4), (3, 1, 4), (4, 4, 4)]\n",
    "# v_conds = [(6,2,5), (6,2,5), (6,2,5), (-3,2,8)]\n",
    "\n",
    "def runrun(N):\n",
    "    dat = generate_data(N,\n",
    "                        fn, \n",
    "                        hidden_cause = True, \n",
    "                        plot = False, \n",
    "                        hiddens = hiddens,\n",
    "                        v_conds = v_conds, \n",
    "                        z_conds = z_conds)\n",
    "\n",
    "    return fit_models(*split_out_dat(dat))"
   ]
  },
  {
   "cell_type": "code",
   "execution_count": 25,
   "metadata": {
    "autoscroll": false,
    "collapsed": false,
    "ein.hycell": false,
    "ein.tags": "worksheet-0",
    "slideshow": {
     "slide_type": "-"
    }
   },
   "outputs": [
    {
     "data": {
      "image/png": "[encoded data removed]",
      "text/plain": [
       "<Figure size 1440x720 with 5 Axes>"
      ]
     },
     "metadata": {},
     "output_type": "display_data"
    }
   ],
   "source": [
    "dat = generate_data(1000,\n",
    "                    fn, \n",
    "                    hidden_cause = True, \n",
    "                    plot = True, \n",
    "                    hiddens = hiddens,\n",
    "                    v_conds = v_conds, \n",
    "                    z_conds = z_conds)\n"
   ]
  },
  {
   "cell_type": "code",
   "execution_count": 26,
   "metadata": {
    "autoscroll": false,
    "collapsed": false,
    "ein.hycell": false,
    "ein.tags": "worksheet-0",
    "slideshow": {
     "slide_type": "-"
    }
   },
   "outputs": [
    {
     "data": {
      "text/plain": [
       "(array([-0.00246194,  0.41110402,  0.51083346]),\n array([0.01641729, 0.52527566, 0.48978739]),\n array([0.0035369 , 0.43445367, 0.48392661]),\n array([ 0.01394536, -0.35044725,  0.50442401]))"
      ]
     },
     "execution_count": 26,
     "metadata": {},
     "output_type": "execute_result"
    }
   ],
   "source": [
    "ys, Xs, taus = zip(*dat)\n",
    "phi_source, phi_target, _, _, _, taus_source, taus_target = split_out_dat(dat)\n",
    "\n",
    "from sklearn.linear_model import LinearRegression\n",
    "\n",
    "# LinearRegression().fit(Xs[0], ys[0]).coef_, LinearRegression().fit(Xs[1], ys[1]).coef_, LinearRegression().fit(Xs[2], ys[2]).coef_, LinearRegression().fit(Xs[3], ys[3]).coef_\n",
    "\n",
    "LinearRegression().fit(Xs[0], taus[0]).coef_, LinearRegression().fit(Xs[1], taus[1]).coef_, LinearRegression().fit(Xs[2], taus[2]).coef_, LinearRegression().fit(Xs[3], taus[3]).coef_"
   ]
  },
  {
   "cell_type": "code",
   "execution_count": 27,
   "metadata": {
    "autoscroll": false,
    "collapsed": false,
    "ein.hycell": false,
    "ein.tags": "worksheet-0",
    "slideshow": {
     "slide_type": "-"
    }
   },
   "outputs": [
    {
     "data": {
      "image/png": "[encoded data removed]",
      "text/plain": [
       "<Figure size 720x216 with 1 Axes>"
      ]
     },
     "metadata": {},
     "output_type": "display_data"
    }
   ],
   "source": [
    "for d in [LinearRegression(fit_intercept=True).fit(Xs[i][:, 1:3], taus[i]).predict(Xs[0][:, 1:3]) for i in range(4)]:\n",
    "    sns.distplot(d)"
   ]
  },
  {
   "cell_type": "code",
   "execution_count": 28,
   "metadata": {
    "autoscroll": false,
    "collapsed": false,
    "ein.hycell": false,
    "ein.tags": "worksheet-0",
    "slideshow": {
     "slide_type": "-"
    }
   },
   "outputs": [],
   "source": [
    "scores, preds, models, datt = runrun(1000)\n",
    "tt, ct = models"
   ]
  },
  {
   "cell_type": "code",
   "execution_count": 29,
   "metadata": {
    "autoscroll": false,
    "collapsed": false,
    "ein.hycell": false,
    "ein.tags": "worksheet-0",
    "slideshow": {
     "slide_type": "-"
    }
   },
   "outputs": [
    {
     "data": {
      "image/png": "[encoded data removed]",
      "text/plain": [
       "<Figure size 1080x432 with 2 Axes>"
      ]
     },
     "metadata": {},
     "output_type": "display_data"
    }
   ],
   "source": [
    "plot_split(tt.tree, datt[0], datt[2], datt[4])"
   ]
  },
  {
   "cell_type": "code",
   "execution_count": 30,
   "metadata": {
    "autoscroll": false,
    "collapsed": false,
    "ein.hycell": false,
    "ein.tags": "worksheet-0",
    "slideshow": {
     "slide_type": "-"
    }
   },
   "outputs": [
    {
     "data": {
      "image/png": "[encoded data removed]",
      "text/plain": [
       "<Figure size 1080x432 with 2 Axes>"
      ]
     },
     "metadata": {},
     "output_type": "display_data"
    }
   ],
   "source": [
    "# plot_split(Node(leaf, 1, 5., leaf, leaf), datt[0], datt[2], datt[4])\n",
    "plot_split(ct.tree, datt[0], datt[2], datt[4])"
   ]
  },
  {
   "cell_type": "code",
   "execution_count": 31,
   "metadata": {
    "autoscroll": false,
    "collapsed": false,
    "ein.hycell": false,
    "ein.tags": "worksheet-0",
    "slideshow": {
     "slide_type": "-"
    }
   },
   "outputs": [
    {
     "data": {
      "text/plain": [
       "|--dim: 0, thresh: 9.9511 scores: -1.460 || 141.736 || 0.008 || 0.657, gain: 0.3162, tot_gain: 0.3347 \n   |--dim: 1, thresh: -0.4186 scores: -0.758 || 122.199 || 0.012 || 0.041, gain: 0.0102, tot_gain: 0.0122 \n      |--pred: 8.9828, scores: -0.046 || 80.691 || 0.064 || 0.017, N: 69 \n      |--dim: 0, thresh: 3.8072 scores: -0.722 || 126.917 || 0.011 || 0.010, gain: 0.0020, tot_gain: 0.0020 \n         |--pred: 10.8700, scores: -0.069 || 118.156 || 0.095 || 0.000, N: 70 \n         |--pred: 11.3169, scores: -0.655 || 128.073 || 0.013 || 0.005, N: 615 \n   |--dim: 1, thresh: 2.5013 scores: -1.018 || 164.262 || 0.013 || 0.014, gain: 0.0056, tot_gain: 0.0063 \n      |--pred: 10.8898, scores: -0.071 || 118.587 || 0.067 || 0.001, N: 72 \n      |--dim: 0, thresh: 17.1428 scores: -0.952 || 169.596 || 0.013 || 0.001, gain: 0.0006, tot_gain: 0.0006 \n         |--pred: 12.9759, scores: -0.871 || 168.373 || 0.014 || 0.004, N: 621 \n         |--pred: 13.6713, scores: -0.082 || 186.905 || 0.165 || 0.000, N: 53 "
      ]
     },
     "execution_count": 31,
     "metadata": {},
     "output_type": "execute_result"
    }
   ],
   "source": [
    "# from trees import split_data_by_thresh\n",
    "# split_data_by_thresh(datt, tt.tree.dim, tt.tree.thresh)\n",
    "\n",
    "tt.tree"
   ]
  },
  {
   "cell_type": "code",
   "execution_count": 32,
   "metadata": {
    "autoscroll": false,
    "collapsed": false,
    "ein.hycell": false,
    "ein.tags": "worksheet-0",
    "slideshow": {
     "slide_type": "-"
    }
   },
   "outputs": [
    {
     "data": {
      "text/plain": [
       "|--dim: 1, thresh: 2.9741 scores: -70.864 || 141.736 || 0.008, gain: 0.6042, tot_gain: 1.0351 \n   |--dim: 1, thresh: -0.4186 scores: -18.848 || 108.753 || 0.013, gain: 0.0743, tot_gain: 0.1176 \n      |--pred: 8.9615, scores: -1.872 || 80.308 || 0.064, N: 70 \n      |--dim: 0, thresh: 5.3258 scores: -17.050 || 113.682 || 0.013, gain: 0.0433, tot_gain: 0.0433 \n         |--pred: 10.4137, scores: -6.107 || 108.444 || 0.032, N: 169 \n         |--pred: 10.8311, scores: -10.986 || 117.314 || 0.021, N: 281 \n   |--dim: 0, thresh: 10.0147 scores: -52.620 || 161.089 || 0.009, gain: 0.1910, tot_gain: 0.3133 \n      |--dim: 1, thresh: 5.1711 scores: -16.343 || 143.795 || 0.017, gain: 0.0563, tot_gain: 0.0563 \n         |--pred: 11.7282, scores: -11.232 || 137.550 || 0.021, N: 245 \n         |--pred: 12.7092, scores: -5.167 || 161.525 || 0.041, N: 96 \n      |--dim: 0, thresh: 16.7291 scores: -36.468 || 171.223 || 0.013, gain: 0.0660, tot_gain: 0.0660 \n         |--pred: 12.9671, scores: -31.273 || 168.146 || 0.014, N: 558 \n         |--pred: 13.9626, scores: -5.261 || 194.955 || 0.096, N: 81 "
      ]
     },
     "execution_count": 32,
     "metadata": {},
     "output_type": "execute_result"
    }
   ],
   "source": [
    "ct.tree"
   ]
  },
  {
   "cell_type": "code",
   "execution_count": 16,
   "metadata": {
    "autoscroll": false,
    "collapsed": false,
    "ein.hycell": false,
    "ein.tags": "worksheet-0",
    "slideshow": {
     "slide_type": "-"
    }
   },
   "outputs": [
    {
     "data": {
      "text/plain": [
       "-0.30648352529940986"
      ]
     },
     "execution_count": 16,
     "metadata": {},
     "output_type": "execute_result"
    }
   ],
   "source": [
    "# dim 0 should be ignored!\n",
    "\n",
    "imp = lambda tt,ct: tt.feature_importance(gain=False)[1] - ct.feature_importance(gain=False)[1]\n",
    "\n",
    "imp(tt, ct)"
   ]
  },
  {
   "cell_type": "code",
   "execution_count": 19,
   "metadata": {
    "autoscroll": false,
    "collapsed": false,
    "ein.hycell": false,
    "ein.tags": "worksheet-0",
    "slideshow": {
     "slide_type": "-"
    }
   },
   "outputs": [
    {
     "data": {
      "text/plain": [
       "-0.021960729807326183"
      ]
     },
     "execution_count": 19,
     "metadata": {},
     "output_type": "execute_result"
    }
   ],
   "source": [
    "ts, cs = scores\n",
    "(ts - cs)/cs"
   ]
  },
  {
   "cell_type": "code",
   "execution_count": 20,
   "metadata": {
    "autoscroll": false,
    "collapsed": false,
    "ein.hycell": false,
    "ein.tags": "worksheet-0",
    "slideshow": {
     "slide_type": "-"
    }
   },
   "outputs": [
    {
     "name": "stdout",
     "output_type": "stream",
     "text": [
      "-0.20210512162277533\n",
      "0.04958674642992528\n",
      "CPU times: user 296 ms, sys: 124 ms, total: 420 ms\n",
      "Wall time: 55.5 s\n"
     ]
    },
    {
     "data": {
      "text/plain": [
       "<matplotlib.axes._subplots.AxesSubplot at 0x7f0ef32d44d0>"
      ]
     },
     "execution_count": 20,
     "metadata": {},
     "output_type": "execute_result"
    },
    {
     "data": {
      "image/png": "[encoded data removed]",
      "text/plain": [
       "<Figure size 720x216 with 1 Axes>"
      ]
     },
     "metadata": {},
     "output_type": "display_data"
    }
   ],
   "source": [
    "%%time\n",
    "# N = 1000\n",
    "imp = lambda tt,ct: tt.feature_importance(gain=False)[1] - ct.feature_importance(gain=False)[1]\n",
    "\n",
    "results = Parallel(n_jobs=-1)(delayed(runrun)(1000) for i in range(16))\n",
    "mse = [(t-c)/c for (t,c),_,(tt, ct),_ in results]\n",
    "importances = [imp(tt, ct) for (t,c),_,(tt, ct),_ in results]\n",
    "print(np.mean(importances))\n",
    "print(np.mean(mse))\n",
    "sns.distplot(np.array(mse), bins = 20)"
   ]
  },
  {
   "cell_type": "code",
   "execution_count": 21,
   "metadata": {
    "autoscroll": false,
    "collapsed": false,
    "ein.hycell": false,
    "ein.tags": "worksheet-0",
    "slideshow": {
     "slide_type": "-"
    }
   },
   "outputs": [
    {
     "data": {
      "text/plain": [
       "<matplotlib.legend.Legend at 0x7f0ef25eccd0>"
      ]
     },
     "execution_count": 21,
     "metadata": {},
     "output_type": "execute_result"
    },
    {
     "data": {
      "image/png": "[encoded data removed]",
      "text/plain": [
       "<Figure size 720x216 with 1 Axes>"
      ]
     },
     "metadata": {},
     "output_type": "display_data"
    }
   ],
   "source": [
    "tau_var = [np.mean((np.mean(txx) - txx)**2) for _,_,_,(_,_,_,txx,_) in results]\n",
    "t_mse, c_mse = zip(*[(t,c) for (t,c),_,(tt, ct),_ in results])\n",
    "for lbl,d in zip(['tt', 'ct'], [[1-a/b for a,b in zip(t_mse, tau_var)], [1-a/b for a,b in zip(c_mse, tau_var)]]):\n",
    "    sns.distplot(d, label=lbl)\n",
    "plt.legend()"
   ]
  },
  {
   "cell_type": "code",
   "execution_count": 22,
   "metadata": {
    "autoscroll": false,
    "collapsed": false,
    "ein.hycell": false,
    "ein.tags": "worksheet-0",
    "slideshow": {
     "slide_type": "-"
    }
   },
   "outputs": [
    {
     "data": {
      "text/plain": [
       "array([0.11900239, 0.15419007])"
      ]
     },
     "execution_count": 22,
     "metadata": {},
     "output_type": "execute_result"
    }
   ],
   "source": [
    "np.mean(np.array([[1-a/b for a,b in zip(t_mse, tau_var)], [1-a/b for a,b in zip(c_mse, tau_var)]]), 1)"
   ]
  },
  {
   "cell_type": "code",
   "execution_count": 23,
   "metadata": {
    "autoscroll": false,
    "collapsed": false,
    "ein.hycell": false,
    "ein.tags": "worksheet-0",
    "slideshow": {
     "slide_type": "-"
    }
   },
   "outputs": [],
   "source": [
    "def foo(results):\n",
    "    taus = [txx for _,_,_,(_,_,_,txx,_) in results]\n",
    "    tp, cp = zip(*[preds for _,preds,_,_ in results])\n",
    "\n",
    "    tis = [get_within_ci(d,t) for d,t in zip(tp, taus)]\n",
    "    cps = [get_within_ci(d,t) for d,t in zip(cp, taus)]\n",
    "\n",
    "    return tis, cps\n",
    "\n",
    "\n",
    "def get_within_ci(preds, taus):\n",
    "    return pd.DataFrame(preds, columns = ['pred', 'lower', 'upper']) \\\n",
    "             .assign(true = taus) \\\n",
    "             .groupby('pred') \\\n",
    "             .apply(lambda df: df.assign(true_cate = df.true.mean())) \\\n",
    "             .pipe(lambda df: df.assign(within_int = (df.true_cate <= df.upper) & (df.true_cate >= df.lower))) \\\n",
    "             .pipe(lambda df: df['within_int'].sum() / df.shape[0])"
   ]
  },
  {
   "cell_type": "code",
   "execution_count": 24,
   "metadata": {
    "autoscroll": false,
    "collapsed": false,
    "ein.hycell": false,
    "ein.tags": "worksheet-0",
    "slideshow": {
     "slide_type": "-"
    }
   },
   "outputs": [
    {
     "data": {
      "image/png": "[encoded data removed]",
      "text/plain": [
       "<Figure size 720x216 with 1 Axes>"
      ]
     },
     "metadata": {},
     "output_type": "display_data"
    }
   ],
   "source": [
    "for a in foo(results):\n",
    "    sns.distplot(a)"
   ]
  },
  {
   "cell_type": "code",
   "execution_count": 25,
   "metadata": {
    "autoscroll": false,
    "collapsed": false,
    "ein.hycell": false,
    "ein.tags": "worksheet-0",
    "slideshow": {
     "slide_type": "-"
    }
   },
   "outputs": [
    {
     "data": {
      "text/plain": [
       "(0.5946875, 0.6974374999999999)"
      ]
     },
     "execution_count": 25,
     "metadata": {},
     "output_type": "execute_result"
    }
   ],
   "source": [
    "np.mean(foo(results)[0]), np.mean(foo(results)[1])"
   ]
  },
  {
   "cell_type": "code",
   "execution_count": null,
   "metadata": {
    "autoscroll": false,
    "collapsed": false,
    "ein.hycell": false,
    "ein.tags": "worksheet-0",
    "slideshow": {
     "slide_type": "-"
    }
   },
   "outputs": [],
   "source": [
    "# R2 score of predictions\n",
    "cpreds = [causal_model.predict(phi(x[:, 1:])) for x in Xs]\n",
    "\n",
    "[r2_score(t,p) for p,t in zip(cpreds, taus)]"
   ]
  },
  {
   "cell_type": "code",
   "execution_count": 675,
   "metadata": {
    "autoscroll": false,
    "collapsed": false,
    "ein.hycell": false,
    "ein.tags": "worksheet-0",
    "slideshow": {
     "slide_type": "-"
    }
   },
   "outputs": [
    {
     "data": {
      "text/plain": [
       "[0.48204475644637146,\n",
       " 0.540050801439888,\n",
       " 0.587036531032876,\n",
       " 0.47988350972769966]"
      ]
     },
     "execution_count": 675,
     "metadata": {},
     "output_type": "execute_result"
    }
   ],
   "source": [
    "# R2 score of predictions\n",
    "\n",
    "tpreds = [transfer_model.predict(phi(x[:, 1:])) for x in Xs]\n",
    "\n",
    "[r2_score(t,p) for p,t in zip(tpreds, taus)]"
   ]
  },
  {
   "cell_type": "code",
   "execution_count": null,
   "metadata": {
    "autoscroll": false,
    "collapsed": false,
    "ein.hycell": false,
    "ein.tags": "worksheet-0",
    "slideshow": {
     "slide_type": "-"
    }
   },
   "outputs": [],
   "source": [
    "[np.mean((t-p)**2) for p,t in zip(preds, taus)]"
   ]
  },
  {
   "cell_type": "code",
   "execution_count": 475,
   "metadata": {
    "autoscroll": false,
    "collapsed": false,
    "ein.hycell": false,
    "ein.tags": "worksheet-0",
    "slideshow": {
     "slide_type": "-"
    }
   },
   "outputs": [
    {
     "data": {
      "text/plain": [
       "1.6767703616462597"
      ]
     },
     "execution_count": 475,
     "metadata": {},
     "output_type": "execute_result"
    }
   ],
   "source": [
    "# Score of oracle average of sources on target\n",
    "\n",
    "np.mean((np.mean(taus[:-1]) - taus[-1])**2)"
   ]
  },
  {
   "cell_type": "code",
   "execution_count": 89,
   "metadata": {
    "autoscroll": false,
    "collapsed": false,
    "ein.hycell": false,
    "ein.tags": "worksheet-0",
    "slideshow": {
     "slide_type": "-"
    }
   },
   "outputs": [
    {
     "data": {
      "text/plain": [
       "[1511.704608424898, 3322.551749217693, 1561.6842105276883, 1085.0911237975392]"
      ]
     },
     "execution_count": 89,
     "metadata": {},
     "output_type": "execute_result"
    }
   ],
   "source": [
    "# score of oracle ATE from same source\n",
    "\n",
    "[np.mean((np.mean(t) - t)**2) for t in taus]"
   ]
  },
  {
   "cell_type": "markdown",
   "metadata": {
    "ein.tags": "worksheet-0",
    "slideshow": {
     "slide_type": "-"
    }
   },
   "source": [
    "# Causal Tree Test"
   ]
  },
  {
   "cell_type": "code",
   "execution_count": 33,
   "metadata": {
    "autoscroll": false,
    "collapsed": false,
    "ein.hycell": false,
    "ein.tags": "worksheet-0",
    "slideshow": {
     "slide_type": "-"
    }
   },
   "outputs": [],
   "source": [
    "from sklearn.model_selection import ParameterGrid\n",
    "from copy import deepcopy\n",
    "\n",
    "def make_nested_grid(params):\n",
    "    return ParameterGrid({ key: list(ParameterGrid(value))\n",
    "                           for key, value in params.items()})\n",
    "\n",
    "\n",
    "def _crossval_score(model, X, y, treatment, weights, splitter, fit_params, init_params):\n",
    "    model = deepcopy(model)\n",
    "    model.set_params(**init_params)\n",
    "    scores = []\n",
    "\n",
    "    for train_idx, test_idx in splitter.split(X, treatment):\n",
    "        model.fit(X[train_idx, :], \n",
    "                  y[train_idx], \n",
    "                  treatment = treatment[train_idx], \n",
    "                  sample_weight = weights[train_idx],\n",
    "                  **fit_params)\n",
    "\n",
    "        score = model.score(X[test_idx, :],\n",
    "                            y[test_idx], \n",
    "                            treatment = treatment[test_idx], \n",
    "                            sample_weight = weights[test_idx],\n",
    "                            **fit_params)\n",
    "            \n",
    "        scores.append(score)\n",
    "    \n",
    "    return np.mean(scores)\n",
    "\n",
    "from joblib import Parallel, delayed\n",
    "\n",
    "def model_search(model, X, y, treatment, weights, init_params, fit_params, splitter, n_jobs = -1):\n",
    "    grid = make_nested_grid({'fit_params': fit_params, \n",
    "                             'init_params': init_params})\n",
    "\n",
    "    all_scores = Parallel(n_jobs=n_jobs)(delayed(_crossval_score)(model, X, y, treatment, weights, splitter, **g) for g in grid)\n",
    "    # all_scores = [_crossval_score(model, X, y, treatment, weights, splitter, **g) for g in grid]\n",
    "\n",
    "    return list(zip(grid, all_scores))   "
   ]
  },
  {
   "cell_type": "code",
   "execution_count": null,
   "metadata": {
    "autoscroll": false,
    "collapsed": false,
    "ein.hycell": false,
    "ein.tags": "worksheet-0",
    "slideshow": {
     "slide_type": "-"
    }
   },
   "outputs": [],
   "source": [
    "import pandas as pd\n",
    "\n",
    "\n",
    "def get_simulation(fi = 'simulation-1-athey.csv'):\n",
    "    df = pd.read_csv(fi)\n",
    "    X = df.iloc[:, :4].values\n",
    "    y = df.y.values\n",
    "    treatment = df.treatment.values\n",
    "    return X, y, treatment\n",
    "\n",
    "sim_X, sim_y, sim_treatment = get_simulation()"
   ]
  },
  {
   "cell_type": "code",
   "execution_count": 35,
   "metadata": {
    "autoscroll": false,
    "collapsed": false,
    "ein.hycell": false,
    "ein.tags": "worksheet-0",
    "slideshow": {
     "slide_type": "-"
    }
   },
   "outputs": [],
   "source": [
    "def eta(X):\n",
    "    return 0.5 * X[:, 0] + X[:, 1]\n",
    "\n",
    "def kappa(X):\n",
    "    return 0.5 * X[:, 0]\n",
    "\n",
    "def gen_y(X, w):\n",
    "    return eta(X) + 0.5 * (2*w - 1) * kappa(X) + np.random.normal(0, 0.01)\n",
    "\n",
    "N = 1000\n",
    "S = round(N/2)\n",
    "X = np.random.normal(0, 1, (N, 6))\n",
    "treatment = np.random.binomial(1, 0.5, N)\n",
    "y = gen_y(X, treatment)"
   ]
  },
  {
   "cell_type": "code",
   "execution_count": 36,
   "metadata": {
    "autoscroll": false,
    "collapsed": false,
    "ein.hycell": false,
    "ein.tags": "worksheet-0",
    "slideshow": {
     "slide_type": "-"
    }
   },
   "outputs": [],
   "source": [
    "def eta(X):\n",
    "    return 0.5 * np.sum(X[:, :2], axis=1) + np.sum(X[:, 2:], axis=1)\n",
    "\n",
    "def kappa(X):\n",
    "    return np.sum(X[:, :2] * (X[:, :2] > 0).astype(int), axis=1)\n",
    "\n",
    "def gen_y(X, w):\n",
    "    return eta(X) + 0.5 * (2*w - 1) * kappa(X) + np.random.normal(0, 0.01, size = X.shape[0])\n",
    "\n",
    "\n",
    "N = 12000\n",
    "S = 2000\n",
    "X = np.random.normal(0, 1, (N, 6))\n",
    "treatment = np.random.binomial(1, 0.5, N)\n",
    "weights = np.ones(N)\n",
    "y = gen_y(X, treatment)"
   ]
  },
  {
   "cell_type": "code",
   "execution_count": 37,
   "metadata": {
    "autoscroll": false,
    "collapsed": false,
    "ein.hycell": false,
    "ein.tags": "worksheet-0",
    "slideshow": {
     "slide_type": "-"
    }
   },
   "outputs": [],
   "source": [
    "sim_dat = pd.concat([pd.DataFrame(X, columns = range(1, 7)), \n",
    "                     pd.DataFrame({ 'y': y, 'treatment': treatment, 'tau': kappa(X)})], axis=1)\n",
    "\n",
    "sim_dat.to_csv('sim_dat-2.csv', index=False)"
   ]
  },
  {
   "cell_type": "code",
   "execution_count": 64,
   "metadata": {
    "autoscroll": false,
    "collapsed": false,
    "ein.hycell": false,
    "ein.tags": "worksheet-0",
    "slideshow": {
     "slide_type": "-"
    }
   },
   "outputs": [],
   "source": [
    "# idx = np.arange(X.shape[0])\n",
    "# np.random.shuffle(idx)\n",
    "\n",
    "# treatment = treatment[idx]\n",
    "# X = X[idx, :]\n",
    "# y = y[idx]"
   ]
  },
  {
   "cell_type": "code",
   "execution_count": 38,
   "metadata": {
    "autoscroll": false,
    "collapsed": false,
    "ein.hycell": false,
    "ein.tags": "worksheet-0",
    "slideshow": {
     "slide_type": "-"
    }
   },
   "outputs": [
    {
     "name": "stdout",
     "output_type": "stream",
     "text": [
      "CPU times: user 180 ms, sys: 108 ms, total: 288 ms\n",
      "Wall time: 9.79 s\n"
     ]
    },
    {
     "data": {
      "text/plain": [
       "{'alpha': -0.01, 'honest': True}"
      ]
     },
     "execution_count": 38,
     "metadata": {},
     "output_type": "execute_result"
    }
   ],
   "source": [
    "%%time\n",
    "\n",
    "from sklearn.model_selection import StratifiedKFold\n",
    "cv = StratifiedKFold(n_splits = 3)\n",
    "\n",
    "model = TransferTreeRegressor(criterion = causal_tree_criterion, \n",
    "                              min_samples_leaf = 4,\n",
    "                              alpha = 0.1, \n",
    "                              honest = False)\n",
    "\n",
    "fit_params = {'min_samples': [25] }\n",
    "init_params = {'alpha': [ -.1, -0.05, -0.01, 0.0, 0.01, 0.05, 0.1, 0.4 ], 'honest': [True] }\n",
    "\n",
    "results = model_search(model, X[:S], y[:S], treatment[:S], weights[:S], init_params, fit_params, cv)\n",
    "\n",
    "best_params = sorted(results, key = lambda t: t[1])[0][0]['init_params']\n",
    "\n",
    "best_params"
   ]
  },
  {
   "cell_type": "code",
   "execution_count": 52,
   "metadata": {
    "autoscroll": false,
    "collapsed": false,
    "ein.hycell": false,
    "ein.tags": "worksheet-0",
    "slideshow": {
     "slide_type": "-"
    }
   },
   "outputs": [
    {
     "name": "stdout",
     "output_type": "stream",
     "text": [
      "0.005000776232677695\n"
     ]
    },
    {
     "data": {
      "text/plain": [
       "|--dim: 0, thresh: 0.5946 scores: -0.707 || 1.450 || 0.036, gain: 0.1639, tot_gain: 0.2241 \n   |--dim: 5, thresh: 1.3121 scores: -0.195 || 0.608 || 0.049, gain: 0.0025, tot_gain: 0.0602 \n      |--dim: 3, thresh: 1.1859 scores: -0.190 || 0.663 || 0.052, gain: 0.0413, tot_gain: 0.0577 \n         |--dim: 5, thresh: -1.0508 scores: -0.246 || 0.935 || 0.051, gain: -0.0345, tot_gain: 0.0165 \n            |--pred: 0.6024, scores: -0.006 || 0.363 || 0.240, N: 105 \n            |--dim: 1, thresh: 0.5871 scores: -0.205 || 0.964 || 0.057, gain: 0.0419, tot_gain: 0.0510 \n               |--pred: 0.7730, scores: -0.092 || 0.598 || 0.068, N: 346 \n               |--dim: 4, thresh: -0.2261 scores: -0.155 || 3.198 || 0.268, gain: 0.0091, tot_gain: 0.0091 \n                  |--pred: 0.8066, scores: -0.003 || 0.651 || 0.515, N: 46 \n                  |--pred: 2.3930, scores: -0.161 || 5.727 || 0.351, N: 60 \n         |--pred: -0.0358, scores: 0.015 || 0.001 || 0.466, N: 64 \n      |--pred: 0.7757, scores: -0.008 || 0.602 || 0.402, N: 76 \n   |--pred: 2.1396, scores: -0.676 || 4.578 || 0.117, N: 303 "
      ]
     },
     "execution_count": 52,
     "metadata": {},
     "output_type": "execute_result"
    }
   ],
   "source": [
    "from sklearn.metrics import r2_score\n",
    "\n",
    "model = TransferTreeRegressor(criterion = causal_tree_criterion, \n",
    "                              min_samples_leaf = 4,\n",
    "                              alpha = 0.1, \n",
    "                              honest = False)\n",
    "\n",
    "# model.set_params(**best_params)\n",
    "model.set_params(alpha = 0.0, honest=True)\n",
    "\n",
    "model.fit(X[:S], y[:S], treatment=treatment[:S], min_samples=25, var_weight = 0.5)\n",
    "\n",
    "print(r2_score(kappa(X[S:]), model.predict(X[S:])))\n",
    "\n",
    "model.tree"
   ]
  },
  {
   "cell_type": "code",
   "execution_count": 53,
   "metadata": {
    "autoscroll": false,
    "collapsed": false,
    "ein.hycell": false,
    "ein.tags": "worksheet-0",
    "slideshow": {
     "slide_type": "-"
    }
   },
   "outputs": [
    {
     "data": {
      "text/plain": [
       "0.2976"
      ]
     },
     "execution_count": 53,
     "metadata": {},
     "output_type": "execute_result"
    }
   ],
   "source": [
    "preds = pd.DataFrame(model.predict(X[S:], interval = 0.975), columns = ['pred', 'lower', 'upper'])\n",
    "\n",
    "preds.assign(true = kappa(X[S:])) \\\n",
    "    .groupby('pred') \\\n",
    "    .apply(lambda df: df.assign(true_cate = df.true.mean())) \\\n",
    "    .pipe(lambda df: df.assign(within_int = (df.true_cate <= df.upper) & (df.true_cate >= df.lower))) \\\n",
    "    .pipe(lambda df: df['within_int'].sum() / df.shape[0])"
   ]
  },
  {
   "cell_type": "code",
   "execution_count": null,
   "metadata": {
    "autoscroll": false,
    "collapsed": false,
    "ein.hycell": false,
    "ein.tags": "worksheet-0",
    "slideshow": {
     "slide_type": "-"
    }
   },
   "outputs": [],
   "source": [
    "model = TransferTreeRegressor(criterion = mse, max_depth = 5, min_samples_leaf = 10)\n",
    "\n",
    "model.fit(phi(X), y, sample_weight = weights)\n",
    "preds = model.predict(phi(X))\n",
    "# np.mean((preds - y)**2)\n",
    "\n",
    "np.histogram(preds)"
   ]
  },
  {
   "cell_type": "code",
   "execution_count": 60,
   "metadata": {
    "autoscroll": false,
    "collapsed": false,
    "ein.hycell": false,
    "ein.tags": "worksheet-0",
    "slideshow": {
     "slide_type": "-"
    }
   },
   "outputs": [
    {
     "data": {
      "text/plain": [
       "(array([  15,    0,   41,   23,   95,   47,   87,  103,  406, 1183]),\n",
       " array([-129.40835129, -116.21549089, -103.02263049,  -89.82977009,\n",
       "         -76.63690969,  -63.44404929,  -50.25118889,  -37.05832849,\n",
       "         -23.86546809,  -10.67260769,    2.52025272]))"
      ]
     },
     "execution_count": 60,
     "metadata": {},
     "output_type": "execute_result"
    }
   ],
   "source": [
    "from sklearn.tree import DecisionTreeRegressor\n",
    "model = DecisionTreeRegressor(max_depth=5, min_samples_leaf=10)\n",
    "\n",
    "model.fit(phi(X), y, sample_weight = weights)\n",
    "preds = model.predict(phi(X))\n",
    "np.mean((preds - y)**2)"
   ]
  },
  {
   "cell_type": "code",
   "execution_count": 34,
   "metadata": {
    "autoscroll": false,
    "collapsed": false,
    "ein.hycell": false,
    "ein.tags": "worksheet-0",
    "slideshow": {
     "slide_type": "-"
    }
   },
   "outputs": [
    {
     "data": {
      "text/plain": [
       "array([ 0.3661, 20.3762,  0.4404,  7.6768])"
      ]
     },
     "execution_count": 34,
     "metadata": {},
     "output_type": "execute_result"
    }
   ],
   "source": [
    "model = DecisionTreeRegressor(max_depth=4, min_samples_leaf=20)\n",
    "\n",
    "np.mean(np.array([run_model(dat, model, phi, 0, 3, use_weights = None, model_search = True) for i in range(10)]), 0)"
   ]
  },
  {
   "cell_type": "code",
   "execution_count": 35,
   "metadata": {
    "autoscroll": false,
    "collapsed": false,
    "ein.hycell": false,
    "ein.tags": "worksheet-0",
    "slideshow": {
     "slide_type": "-"
    }
   },
   "outputs": [
    {
     "data": {
      "text/plain": [
       "array([ 0.3656, 41.3072, 15.5   ,  1.5563])"
      ]
     },
     "execution_count": 35,
     "metadata": {},
     "output_type": "execute_result"
    }
   ],
   "source": [
    "np.mean(np.array([run_model(dat, model, phi, 0, 3, use_weights = None, model_search = False) for i in range(10)]), 0)"
   ]
  },
  {
   "cell_type": "code",
   "execution_count": 36,
   "metadata": {
    "autoscroll": false,
    "collapsed": false,
    "ein.hycell": false,
    "ein.tags": "worksheet-0",
    "slideshow": {
     "slide_type": "-"
    }
   },
   "outputs": [
    {
     "data": {
      "text/plain": [
       "array([11.7473, 32.487 , 11.613 ,  4.5725])"
      ]
     },
     "execution_count": 36,
     "metadata": {},
     "output_type": "execute_result"
    }
   ],
   "source": [
    "np.mean(np.array([run_model(dat, model, phi, 0, 3, use_weights = 1, model_search = True) for i in range(10)]), 0)"
   ]
  },
  {
   "cell_type": "code",
   "execution_count": 37,
   "metadata": {
    "autoscroll": false,
    "collapsed": false,
    "ein.hycell": false,
    "ein.tags": "worksheet-0",
    "slideshow": {
     "slide_type": "-"
    }
   },
   "outputs": [
    {
     "data": {
      "text/plain": [
       "array([12.42759, 25.75614,  5.67631,  3.50874])"
      ]
     },
     "execution_count": 37,
     "metadata": {},
     "output_type": "execute_result"
    }
   ],
   "source": [
    "np.mean(np.array([run_model(dat, model, phi, 0, 3, use_weights = 1, model_search = False) for i in range(10)]), 0)"
   ]
  },
  {
   "cell_type": "code",
   "execution_count": 38,
   "metadata": {
    "autoscroll": false,
    "collapsed": false,
    "ein.hycell": false,
    "ein.tags": "worksheet-0",
    "slideshow": {
     "slide_type": "-"
    }
   },
   "outputs": [
    {
     "data": {
      "text/plain": [
       "array([ 0.3661, 20.3762,  0.4404,  7.6768])"
      ]
     },
     "execution_count": 38,
     "metadata": {},
     "output_type": "execute_result"
    }
   ],
   "source": [
    "model = TransferTreeRegressor(criterion=mse, max_depth=4, min_samples_leaf=20)\n",
    "\n",
    "np.mean(np.array([run_model(dat, model, phi, 0, 3, use_weights = None, model_search = True) for i in range(10)]), 0)"
   ]
  },
  {
   "cell_type": "code",
   "execution_count": 39,
   "metadata": {
    "autoscroll": false,
    "collapsed": false,
    "ein.hycell": false,
    "ein.tags": "worksheet-0",
    "slideshow": {
     "slide_type": "-"
    }
   },
   "outputs": [
    {
     "data": {
      "text/plain": [
       "array([ 0.3656, 41.3072, 15.5   ,  1.5563])"
      ]
     },
     "execution_count": 39,
     "metadata": {},
     "output_type": "execute_result"
    }
   ],
   "source": [
    "np.mean(np.array([run_model(dat, model, phi, 0, 3, use_weights = None, model_search = False) for i in range(10)]), 0)"
   ]
  },
  {
   "cell_type": "code",
   "execution_count": 52,
   "metadata": {
    "autoscroll": false,
    "collapsed": false,
    "ein.hycell": false,
    "ein.tags": "worksheet-0",
    "slideshow": {
     "slide_type": "-"
    }
   },
   "outputs": [
    {
     "data": {
      "text/plain": [
       "array([11.3818, 32.1958, 11.2033,  3.5604])"
      ]
     },
     "execution_count": 52,
     "metadata": {},
     "output_type": "execute_result"
    }
   ],
   "source": [
    "np.mean(np.array([run_model(dat, model, phi, 0, 3, use_weights = 1, model_search = True) for i in range(10)]), 0)"
   ]
  },
  {
   "cell_type": "code",
   "execution_count": 51,
   "metadata": {
    "autoscroll": false,
    "collapsed": false,
    "ein.hycell": false,
    "ein.tags": "worksheet-0",
    "slideshow": {
     "slide_type": "-"
    }
   },
   "outputs": [
    {
     "data": {
      "text/plain": [
       "array([10.9098,  4.9235,  3.2745,  3.7268])"
      ]
     },
     "execution_count": 51,
     "metadata": {},
     "output_type": "execute_result"
    }
   ],
   "source": [
    "np.mean(np.array([run_model(dat, model, phi, 0, 3, use_weights = 1, model_search = False) for i in range(10)]), 0)"
   ]
  },
  {
   "cell_type": "code",
   "execution_count": 42,
   "metadata": {
    "autoscroll": false,
    "collapsed": false,
    "ein.hycell": false,
    "ein.tags": "worksheet-0",
    "slideshow": {
     "slide_type": "-"
    }
   },
   "outputs": [
    {
     "data": {
      "text/plain": [
       "[0.3605, 21.2762, 16.201, 7.1304]"
      ]
     },
     "execution_count": 42,
     "metadata": {},
     "output_type": "execute_result"
    }
   ],
   "source": [
    "model = LinearRegression(fit_intercept=False)\n",
    "run_model(dat, model, phi, 0, 1, use_weights = None, model_search = False)"
   ]
  },
  {
   "cell_type": "code",
   "execution_count": 31,
   "metadata": {
    "autoscroll": false,
    "collapsed": false,
    "ein.hycell": false,
    "ein.tags": "worksheet-0",
    "slideshow": {
     "slide_type": "-"
    }
   },
   "outputs": [
    {
     "data": {
      "text/plain": [
       "[0.4141, 20.8479, 0.2354, 6.2956]"
      ]
     },
     "execution_count": 31,
     "metadata": {},
     "output_type": "execute_result"
    }
   ],
   "source": [
    "run_model(dat, model, phi, 0, 3, use_weights = None, model_search = True)"
   ]
  },
  {
   "cell_type": "code",
   "execution_count": 32,
   "metadata": {
    "autoscroll": false,
    "collapsed": false,
    "ein.hycell": false,
    "ein.tags": "worksheet-0",
    "slideshow": {
     "slide_type": "-"
    }
   },
   "outputs": [
    {
     "data": {
      "text/plain": [
       "[12.3876, 41.752, 16.8672, 4.4122]"
      ]
     },
     "execution_count": 32,
     "metadata": {},
     "output_type": "execute_result"
    }
   ],
   "source": [
    "run_model(dat, model, phi, 0, 1, use_weights = 1, model_search = False)"
   ]
  },
  {
   "cell_type": "code",
   "execution_count": 33,
   "metadata": {
    "autoscroll": false,
    "collapsed": false,
    "ein.hycell": false,
    "ein.tags": "worksheet-0",
    "slideshow": {
     "slide_type": "-"
    }
   },
   "outputs": [
    {
     "data": {
      "text/plain": [
       "[11.362, 31.8239, 11.2857, 4.7136]"
      ]
     },
     "execution_count": 33,
     "metadata": {},
     "output_type": "execute_result"
    }
   ],
   "source": [
    "run_model(dat, model, phi, 0, 3, use_weights = 1, model_search = True)"
   ]
  },
  {
   "cell_type": "code",
   "execution_count": 1802,
   "metadata": {
    "autoscroll": false,
    "collapsed": false,
    "ein.hycell": false,
    "ein.tags": "worksheet-0",
    "slideshow": {
     "slide_type": "-"
    }
   },
   "outputs": [],
   "source": [
    "# get residuals for \"sets\" separately\n",
    "# compute distance between residuals\n",
    "# optimize squared errors + penalty for residual distance\n",
    "\n",
    "# search for \"sets\" by looking at residuals and fitting a mixture model\n",
    "# then optimize to remove that mixture...\n",
    "\n",
    "# set up an adversarial problem: the adversary tries to find a \n",
    "# mixture model in your reiduals, the classifier tries to make force the\n",
    "# adversary to fit a 1-component mixture, for example... "
   ]
  },
  {
   "cell_type": "code",
   "execution_count": null,
   "metadata": {
    "autoscroll": false,
    "collapsed": false,
    "ein.hycell": false,
    "ein.tags": "worksheet-0",
    "slideshow": {
     "slide_type": "-"
    }
   },
   "outputs": [],
   "source": []
  }
 ],
 "metadata": {
  "kernelspec": {
   "argv": [
    "python",
    "-m",
    "ipykernel_launcher",
    "-f",
    "{connection_file}"
   ],
   "display_name": "Python 3",
   "env": null,
   "interrupt_mode": "signal",
   "language": "python",
   "metadata": null,
   "name": "python3"
  },
  "name": "simulate.ipynb"
 },
 "nbformat": 4,
 "nbformat_minor": 2
}
