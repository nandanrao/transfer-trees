{
 "cells": [
  {
   "cell_type": "code",
   "execution_count": null,
   "metadata": {
    "autoscroll": false,
    "collapsed": false,
    "ein.hycell": false,
    "ein.tags": "worksheet-0",
    "slideshow": {
     "slide_type": "-"
    }
   },
   "outputs": [],
   "source": [
    "! pip install densratio"
   ]
  },
  {
   "cell_type": "code",
   "execution_count": 1,
   "metadata": {
    "autoscroll": false,
    "collapsed": false,
    "ein.hycell": false,
    "ein.tags": "worksheet-0",
    "slideshow": {
     "slide_type": "-"
    }
   },
   "outputs": [],
   "source": [
    "# TODO\n",
    "\n",
    "# 1.\n",
    "# Make non-linear in such a way that you cannot extrapolate to unseen P(Y,X)\n",
    "\n",
    "# 2. \n",
    "# Use importance estimation to extrapolate.\n",
    "\n",
    "# 3. \n",
    "# Show that when H|Z vs Z|H, extrapolation fails even with importance estimation. \n",
    "\n",
    "# 4\n",
    "# Make true model such that excluding variables should recover a model that is \"robust\" (P(X|H))"
   ]
  },
  {
   "cell_type": "code",
   "execution_count": 1,
   "metadata": {
    "autoscroll": false,
    "collapsed": false,
    "ein.hycell": false,
    "ein.tags": "worksheet-0",
    "slideshow": {
     "slide_type": "-"
    }
   },
   "outputs": [],
   "source": [
    "%load_ext autoreload\n",
    "%autoreload 2"
   ]
  },
  {
   "cell_type": "code",
   "execution_count": 2,
   "metadata": {
    "autoscroll": false,
    "collapsed": false,
    "ein.hycell": false,
    "ein.tags": "worksheet-0",
    "slideshow": {
     "slide_type": "-"
    }
   },
   "outputs": [],
   "source": [
    "%load_ext rpy2.ipython"
   ]
  },
  {
   "cell_type": "code",
   "execution_count": 3,
   "metadata": {
    "autoscroll": false,
    "collapsed": false,
    "ein.hycell": false,
    "ein.tags": "worksheet-0",
    "slideshow": {
     "slide_type": "-"
    }
   },
   "outputs": [],
   "source": [
    "import matplotlib.pyplot as plt\n",
    "plt.rcParams['figure.figsize'] = [10, 3]"
   ]
  },
  {
   "cell_type": "code",
   "execution_count": 4,
   "metadata": {
    "autoscroll": false,
    "collapsed": false,
    "ein.hycell": false,
    "ein.tags": "worksheet-0",
    "slideshow": {
     "slide_type": "-"
    }
   },
   "outputs": [],
   "source": [
    "def plot_dat(vars_):\n",
    "    f, axes = plt.subplots(len(vars_), 1, sharex=True, figsize=(20, 10))\n",
    "\n",
    "    for (H,title),ax in zip(vars_, axes):\n",
    "        for i,h in zip(['A', 'B', 'C', 'D'], H):\n",
    "            sns.distplot(h, label = i, ax=ax)\n",
    "        ax.legend()\n",
    "        ax.set_title(title)\n",
    "        \n",
    "    # plt.title(title)\n",
    "    # plt.show()"
   ]
  },
  {
   "cell_type": "code",
   "execution_count": 5,
   "metadata": {
    "autoscroll": false,
    "collapsed": false,
    "ein.hycell": false,
    "ein.tags": "worksheet-0",
    "slideshow": {
     "slide_type": "-"
    }
   },
   "outputs": [],
   "source": [
    "import numpy as np\n",
    "from scipy.stats import gamma\n",
    "import seaborn as sns\n",
    "from copy import deepcopy\n",
    "\n",
    "# Y := f(H, W, X, Z, N_Y)\n",
    "# Y := f(W, X, Z, N_Y)\n",
    "def fn(h, v, z, w):\n",
    "    val = -1*(h > np.mean(h))*w*h**2 + w*h + w*z + np.random.normal(0, 5, size = h.shape[0])\n",
    "    return val/10\n",
    "\n",
    "\n",
    "def generate_data(N, fn, hidden_cause = True, plot=False, hiddens = [(20,2)]*4, v_conds = [(250,5,5)]*4):\n",
    "    # H is latent variable, distribution changes (not )\n",
    "    H = [gamma.rvs(a, loc=b, scale=1, size=N) for a,b in hiddens]\n",
    "\n",
    "    # V := f(H, N_X)\n",
    "    V = [(1/(h))*c + np.random.gamma(a, b, size=N) for h,(c,a,b) in zip(H, v_conds)]\n",
    "\n",
    "\n",
    "    if not hidden_cause:\n",
    "        V,H = deepcopy(H), deepcopy(V)\n",
    "\n",
    "    # Z = [gamma.rvs(int(np.random.normal(40, 10)), loc=0, scale=1, size=N) for h in H]\n",
    "    # Z := f(N_Z) \n",
    "    Z = [gamma.rvs(2, loc=1, scale=3, size=N) for h in H]\n",
    "\n",
    "    # W := f(N_W) -- TREATMENT\n",
    "    W = [np.random.binomial(1, 0.5, size=N) for h in H]\n",
    "\n",
    "    # Y:= fn(H, V, Z, W, N_Y)\n",
    "    Y = [fn(H[idx], V[idx], Z[idx], W[idx]) for idx in range(4)]\n",
    "\n",
    "    taus = [fn(h,v,z,1) - fn(h,v,z,0) for h,v,z in zip(H,V,Z)]\n",
    "    \n",
    "    if plot:\n",
    "        plot_dat([(H,'H'), (V, 'V') , (Z, 'Z'), (Y, 'Y'), (taus, 'tau')])\n",
    "\n",
    "    return [(y, np.array([w,v,z]).T, tau) for y,v,z,w,h,tau in zip(Y, V, Z, W, H, taus)]"
   ]
  },
  {
   "cell_type": "code",
   "execution_count": 6,
   "metadata": {
    "autoscroll": false,
    "collapsed": false,
    "ein.hycell": false,
    "ein.tags": "worksheet-0",
    "slideshow": {
     "slide_type": "-"
    }
   },
   "outputs": [],
   "source": [
    "from sklearn.tree import DecisionTreeRegressor\n",
    "from sklearn.ensemble import RandomForestRegressor\n",
    "from sklearn.preprocessing import PolynomialFeatures\n",
    "from sklearn.linear_model import LinearRegression\n",
    "from sklearn.neighbors.kde import KernelDensity\n",
    "from scipy.stats import gaussian_kde\n",
    "from scipy.stats import wasserstein_distance\n",
    "from itertools import combinations\n",
    "\n",
    "def kde_score(X):\n",
    "    return gaussian_kde(X).evaluate\n",
    "\n",
    "def score_wasserstein(dat, phi, model, train_idx):\n",
    "    y_train, X_train, _ = dat[train_idx]\n",
    "    model.fit(phi(X_train), y_train)\n",
    "    resids = [model.predict(phi(x)) - y for y,x,_ in dat]\n",
    "    dists = [wasserstein_distance(resids[0], r) for r in resids]\n",
    "    mss = [np.mean(r**2) for r in resids]\n",
    "    score = np.sum(dists)\n",
    "    return score\n",
    "\n",
    "\n",
    "def filter_dat(d, idxs):\n",
    "    return [(y, x[:,idxs],tau) for y,x,tau in d]\n",
    "\n",
    "def search_wasserstein(dat, phi, model, train_idx):\n",
    "    s = dat[0][1].shape[1]\n",
    "\n",
    "    combs = [j for i in range(1,s) \n",
    "             for j in combinations(range(1, s), i)]\n",
    "\n",
    "    combs = [[0] + list(c) for c in combs]\n",
    "\n",
    "    scores = [score_wasserstein(filter_dat(dat, i), phi, model, train_idx) for i in combs]\n",
    "\n",
    "    return combs[np.argmin(scores)]\n",
    "\n",
    "\n",
    "def run_model(dat, model, phi, train_idx, target_idx, use_weights = None, model_search = False):\n",
    "    X_train, X_target = dat[train_idx][1], dat[target_idx][1]\n",
    "\n",
    "    if model_search:\n",
    "        # exclude the target in the model search\n",
    "        dd = [d for i,d in enumerate(dat) if i != target_idx]\n",
    "        idxs = search_wasserstein(dd, phi, model, train_idx)\n",
    "        # print('Choosing variables: ', idxs)\n",
    "    else:\n",
    "        idxs = range(0, X_train.shape[1])\n",
    "\n",
    "\n",
    "    if use_weights is not None:\n",
    "        ps, pt = kde_score(X_train[:, use_weights]), kde_score(X_target[:, use_weights])\n",
    "        weights = pt(X_train[:, use_weights]) / ps(X_train[:, use_weights])\n",
    "    else:\n",
    "        weights = np.ones(X_train.shape[0])\n",
    "\n",
    "\n",
    "    d = [(phi(x[:, idxs]), x[:, 0], y) for y,x,tau in dat]\n",
    "\n",
    "    model.fit(d[train_idx][0], d[train_idx][2], sample_weight=weights)\n",
    "\n",
    "    y0 = [np.mean(model.predict(p[w == 0])) for p,w,y in d]\n",
    "    y1 = [np.mean(model.predict(p[w == 1])) for p,w,y in d]\n",
    "\n",
    "    pred_ates = [a-b for a,b in zip(y1, y0)]\n",
    "    _, _, true_ates = zip(*dat)\n",
    "\n",
    "    return [np.round(np.abs(p-np.mean(t)), 4) for p,t in zip(pred_ates, true_ates)]\n",
    "\n",
    "phi = PolynomialFeatures(degree=2, include_bias=False).fit_transform"
   ]
  },
  {
   "cell_type": "code",
   "execution_count": 7,
   "metadata": {
    "autoscroll": false,
    "collapsed": false,
    "ein.hycell": false,
    "ein.tags": "worksheet-0",
    "slideshow": {
     "slide_type": "-"
    }
   },
   "outputs": [],
   "source": [
    "hiddens = [(25, 2), (4, 15), (4, 20), (2, 25)]\n",
    "# hiddens = [(10,2)]*4\n",
    "v_conds = [(500,2,2)]*4\n",
    "# v_conds = [(250,2,30), (250,5,10), (500,15,5), (500,40,2)]\n",
    "\n",
    "dat = generate_data(2000,\n",
    "                    fn, \n",
    "                    hidden_cause = False, \n",
    "                    plot = False, \n",
    "                    hiddens = hiddens,\n",
    "                    v_conds = v_conds)\n",
    "\n",
    "y, X, tau = dat[0]"
   ]
  },
  {
   "cell_type": "code",
   "execution_count": 8,
   "metadata": {
    "autoscroll": false,
    "collapsed": false,
    "ein.hycell": false,
    "ein.tags": "worksheet-0",
    "slideshow": {
     "slide_type": "-"
    }
   },
   "outputs": [],
   "source": [
    "from trees import TransferTreeRegressor, build_tree, Node\n",
    "from criteria import mse, transfer, causal_tree_criterion"
   ]
  },
  {
   "cell_type": "code",
   "execution_count": 9,
   "metadata": {
    "autoscroll": false,
    "collapsed": false,
    "ein.hycell": false,
    "ein.tags": "worksheet-0",
    "slideshow": {
     "slide_type": "-"
    }
   },
   "outputs": [],
   "source": [
    "weights = np.random.exponential(scale = 4.0, size = y.shape[0])\n",
    "\n",
    "weights = np.ones(y.shape[0])"
   ]
  },
  {
   "cell_type": "code",
   "execution_count": 10,
   "metadata": {
    "autoscroll": false,
    "collapsed": false,
    "ein.hycell": false,
    "ein.tags": "worksheet-0",
    "slideshow": {
     "slide_type": "-"
    }
   },
   "outputs": [],
   "source": [
    "ys, Xs, taus = zip(*dat)\n",
    "\n",
    "ys_source, Xs_source = np.concatenate(ys[:-1]), np.concatenate(Xs[:-1])\n",
    "ys_target, Xs_target = ys[-1], Xs[-1]\n",
    "\n",
    "phi_source = phi(Xs_source[:, 1:])\n",
    "phi_target = phi(Xs_target[:, 1:])\n",
    "\n",
    "treatment = Xs_source[:, 0]\n",
    "N = ys[0].shape[0]\n",
    "context_idxs = np.array([j for i,_ in enumerate(ys[:-1]) for j in [i]*N])"
   ]
  },
  {
   "cell_type": "code",
   "execution_count": null,
   "metadata": {
    "autoscroll": false,
    "collapsed": false,
    "ein.hycell": false,
    "ein.tags": "worksheet-0",
    "slideshow": {
     "slide_type": "-"
    }
   },
   "outputs": [],
   "source": [
    "model = TransferTreeRegressor(criterion = transfer, max_depth = 5, min_samples_leaf = 10)\n",
    "\n",
    "model.fit(phi_source, ys_source, treatment=treatment, context_idxs=context_idxs, target_X=phi_target)"
   ]
  },
  {
   "cell_type": "code",
   "execution_count": null,
   "metadata": {
    "autoscroll": false,
    "collapsed": false,
    "ein.hycell": false,
    "ein.tags": "worksheet-0",
    "slideshow": {
     "slide_type": "-"
    }
   },
   "outputs": [],
   "source": [
    "preds = [model.predict(phi(x[:, 1:])) for x in Xs]\n",
    "[np.mean((p-t)**2) for p,t in zip(preds, taus)]"
   ]
  },
  {
   "cell_type": "code",
   "execution_count": null,
   "metadata": {
    "autoscroll": false,
    "collapsed": false,
    "ein.hycell": false,
    "ein.tags": "worksheet-0",
    "slideshow": {
     "slide_type": "-"
    }
   },
   "outputs": [],
   "source": [
    "np.mean((np.mean(taus[:-1]) - taus[-1])**2)"
   ]
  },
  {
   "cell_type": "code",
   "execution_count": null,
   "metadata": {
    "autoscroll": false,
    "collapsed": false,
    "ein.hycell": false,
    "ein.tags": "worksheet-0",
    "slideshow": {
     "slide_type": "-"
    }
   },
   "outputs": [],
   "source": [
    "[np.mean((np.mean(t) - t)**2) for t in taus]"
   ]
  },
  {
   "cell_type": "markdown",
   "metadata": {
    "ein.tags": "worksheet-0",
    "slideshow": {
     "slide_type": "-"
    }
   },
   "source": [
    "# Causal Tree Test"
   ]
  },
  {
   "cell_type": "code",
   "execution_count": 13,
   "metadata": {
    "autoscroll": false,
    "collapsed": false,
    "ein.hycell": false,
    "ein.tags": "worksheet-0",
    "slideshow": {
     "slide_type": "-"
    }
   },
   "outputs": [],
   "source": [
    "import pandas as pd\n",
    "\n",
    "\n",
    "def get_simulation(fi = 'simulation-1-athey.csv'):\n",
    "    df = pd.read_csv(fi)\n",
    "    X = df.iloc[:, :4].values\n",
    "    y = df.y.values\n",
    "    treatment = df.treatment.values\n",
    "    return X, y, treatment\n",
    "\n",
    "sim_X, sim_y, sim_treatment = get_simulation()"
   ]
  },
  {
   "cell_type": "code",
   "execution_count": 14,
   "metadata": {
    "autoscroll": false,
    "collapsed": false,
    "ein.hycell": false,
    "ein.tags": "worksheet-0",
    "slideshow": {
     "slide_type": "-"
    }
   },
   "outputs": [],
   "source": [
    "def eta(X):\n",
    "    return 0.5 * X[:, 0] + X[:, 1]\n",
    "\n",
    "def kappa(X):\n",
    "    return 0.5 * X[:, 0]\n",
    "\n",
    "def gen_y(X, w):\n",
    "    return eta(X) + 0.5 * (2*w - 1) * kappa(X) + np.random.normal(0, 0.01)\n",
    "\n",
    "\n",
    "X = np.random.normal(0, 1, (1000, 10))\n",
    "w = np.random.binomial(1, 0.5, 1000)\n",
    "y = gen_y(X, w)"
   ]
  },
  {
   "cell_type": "code",
   "execution_count": 81,
   "metadata": {
    "autoscroll": false,
    "collapsed": false,
    "ein.hycell": false,
    "ein.tags": "worksheet-0",
    "slideshow": {
     "slide_type": "-"
    }
   },
   "outputs": [],
   "source": [
    "def eta(X):\n",
    "    return 0.5 * np.sum(X[:, :2], axis=1) + np.sum(X[:, 2:], axis=1)\n",
    "\n",
    "def kappa(X):\n",
    "    return np.sum(X[:, :2] * (X[:, :2] > 0).astype(int), axis=1)\n",
    "\n",
    "def gen_y(X, w):\n",
    "    return eta(X) + 0.5 * (2*w - 1) * kappa(X) + np.random.normal(0, 0.01, size = X.shape[0])\n",
    "\n",
    "\n",
    "N = 2000\n",
    "S = int(N/2)\n",
    "X = np.random.normal(0, 1, (N, 6))\n",
    "treatment = np.random.binomial(1, 0.5, N)\n",
    "weights = np.ones(N)\n",
    "y = gen_y(X, treatment)"
   ]
  },
  {
   "cell_type": "code",
   "execution_count": 60,
   "metadata": {
    "autoscroll": false,
    "collapsed": false,
    "ein.hycell": false,
    "ein.tags": "worksheet-0",
    "slideshow": {
     "slide_type": "-"
    }
   },
   "outputs": [],
   "source": [
    "sim_dat = pd.concat([pd.DataFrame(X, columns = range(1, 7)), \n",
    "                     pd.DataFrame({ 'y': y, 'treatment': treatment, 'tau': kappa(X)})], axis=1)\n",
    "\n",
    "sim_dat.to_csv('sim_dat-2.csv', index=False)"
   ]
  },
  {
   "cell_type": "code",
   "execution_count": 108,
   "metadata": {
    "autoscroll": false,
    "collapsed": false,
    "ein.hycell": false,
    "ein.tags": "worksheet-0",
    "slideshow": {
     "slide_type": "-"
    }
   },
   "outputs": [],
   "source": [
    "from sklearn.model_selection import ParameterGrid\n",
    "\n",
    "\n",
    "def make_nested_grid(params):\n",
    "    return ParameterGrid({ key: list(ParameterGrid(value))\n",
    "                           for key, value in params.items()})\n",
    "        \n",
    "\n",
    "def model_search(model, X, y, treatment, weights, init_params, fit_params, splitter):\n",
    "    grid = make_nested_grid({'fit_params': fit_params, \n",
    "                             'init_params': init_params})\n",
    "\n",
    "    all_scores = []\n",
    "\n",
    "    for g in grid:\n",
    "        model.set_params(**g['init_params'])\n",
    "\n",
    "        scores = []\n",
    "\n",
    "        for train_idx, test_idx in splitter.split(X, treatment):\n",
    "            model.fit(X[train_idx, :], \n",
    "                      y[train_idx], \n",
    "                      treatment = treatment[train_idx], \n",
    "                      sample_weight = weights[train_idx],\n",
    "                      min_samples = 25, \n",
    "                      **g['fit_params'])\n",
    "\n",
    "            score = model.score(X[test_idx, :],\n",
    "                                y[test_idx], \n",
    "                                treatment = treatment[test_idx], \n",
    "                                sample_weight = weights[test_idx],\n",
    "                                min_samples = 1,\n",
    "                                **g['fit_params'])\n",
    "            \n",
    "            \n",
    "            scores.append(score)\n",
    "\n",
    "        all_scores.append((g, np.mean(scores)))\n",
    "       \n",
    "    return all_scores        "
   ]
  },
  {
   "cell_type": "code",
   "execution_count": 107,
   "metadata": {
    "autoscroll": false,
    "collapsed": false,
    "ein.hycell": false,
    "ein.tags": "worksheet-0",
    "slideshow": {
     "slide_type": "-"
    }
   },
   "outputs": [
    {
     "data": {
      "text/plain": [
       "[({'fit_params': {'var_weight': 0.0}, 'init_params': {'alpha': 0.05}},\n  [-0.9256971598389312, -0.9340066412021991, -1.3319259692980923],\n  -1.0638765901130742),\n ({'fit_params': {'var_weight': 0.0}, 'init_params': {'alpha': 0.2}},\n  [-0.4806708403836387, -0.8542773366523394, -0.7083604664739335],\n  -0.6811028811699705),\n ({'fit_params': {'var_weight': 0.5}, 'init_params': {'alpha': 0.05}},\n  [-0.14121154220346985, -0.35031742665049326, -0.4497601253908491],\n  -0.3137630314149374),\n ({'fit_params': {'var_weight': 0.5}, 'init_params': {'alpha': 0.2}},\n  [-0.18740142970628498, -0.37803607490958757, -0.324448676144225],\n  -0.29662872692003256)]"
      ]
     },
     "execution_count": 107,
     "metadata": {},
     "output_type": "execute_result"
    }
   ],
   "source": [
    "from sklearn.model_selection import StratifiedKFold\n",
    "cv = StratifiedKFold(n_splits = 3)\n",
    "\n",
    "model = TransferTreeRegressor(criterion = causal_tree_criterion, \n",
    "                              min_samples_leaf = 4,\n",
    "                              alpha = 0.1)\n",
    "\n",
    "\n",
    "fit_params = {'var_weight': [0.0, 0.5] }\n",
    "init_params = {'alpha': [0.05, 0.2 ] }\n",
    "\n",
    "model_search(model, X, y, treatment, weights, init_params, fit_params, cv)"
   ]
  },
  {
   "cell_type": "code",
   "execution_count": 142,
   "metadata": {
    "autoscroll": false,
    "collapsed": false,
    "ein.hycell": false,
    "ein.tags": "worksheet-0",
    "slideshow": {
     "slide_type": "-"
    }
   },
   "outputs": [
    {
     "name": "stdout",
     "output_type": "stream",
     "text": [
      "0.18348292262212196\n"
     ]
    },
    {
     "data": {
      "text/plain": [
       "|--dim: 1, thresh: 1.7813, score: 0.6812, gain: 0.1134, tot_gain: 0.4526 \n   |--dim: 0, thresh: 1.5963, score: 0.5670, gain: 0.0983, tot_gain: 0.3392 \n      |--dim: 2, thresh: 1.0462, score: 0.4396, gain: 0.1301, tot_gain: 0.2408 \n         |--dim: 5, thresh: -0.8198, score: 0.7156, gain: 0.0488, tot_gain: 0.1108 \n            |--pred: 0.7875, score: -0.0435, se: 0.2324, N: 170 \n            |--dim: 1, thresh: 0.4737, score: 0.8209, gain: 0.0620, tot_gain: 0.0620 \n               |--pred: 0.4929, score: -0.0374, se: 0.1743, N: 410 \n               |--pred: 1.5716, score: -0.2101, se: 0.2719, N: 181 \n         |--pred: -0.7216, score: -0.0198, se: 0.3356, N: 134 \n      |--pred: 2.5692, score: -0.1636, se: 0.5209, N: 54 \n   |--pred: 2.8571, score: -0.1925, se: 0.5541, N: 51 "
      ]
     },
     "execution_count": 142,
     "metadata": {},
     "output_type": "execute_result"
    }
   ],
   "source": [
    "from sklearn.metrics import r2_score\n",
    "\n",
    "model = TransferTreeRegressor(criterion = causal_tree_criterion, \n",
    "                              min_samples_leaf = 4,\n",
    "                              alpha = 0.05)\n",
    "\n",
    "model.fit(X[:S], y[:S], treatment=treatment[:S], min_samples=25, var_weight = 0.5)\n",
    "\n",
    "print(r2_score(kappa(X[S:]), model.predict(X[S:])))\n",
    "model.tree"
   ]
  },
  {
   "cell_type": "code",
   "execution_count": 145,
   "metadata": {
    "autoscroll": false,
    "collapsed": false,
    "ein.hycell": false,
    "ein.tags": "worksheet-0",
    "slideshow": {
     "slide_type": "-"
    }
   },
   "outputs": [
    {
     "data": {
      "text/plain": [
       "0.411"
      ]
     },
     "execution_count": 145,
     "metadata": {},
     "output_type": "execute_result"
    }
   ],
   "source": [
    "preds = pd.DataFrame(model.predict(X[:S], interval = True), columns = ['pred', 'se'])\n",
    "\n",
    "preds.assign(true = kappa(X[:S])) \\\n",
    "     .pipe(lambda df: df.assign(within_int = (df.pred + 2*df.se >= df.true) & (df.pred - 2*df.se <= df.true))) \\\n",
    "     .pipe(lambda df: df['within_int'].sum() / df.shape[0])\n"
   ]
  },
  {
   "cell_type": "code",
   "execution_count": 405,
   "metadata": {
    "autoscroll": false,
    "collapsed": false,
    "ein.hycell": false,
    "ein.tags": "worksheet-0",
    "slideshow": {
     "slide_type": "-"
    }
   },
   "outputs": [
    {
     "data": {
      "text/plain": [
       "0.7078416678365076"
      ]
     },
     "execution_count": 405,
     "metadata": {},
     "output_type": "execute_result"
    }
   ],
   "source": [
    "osplit = sim_dat.iloc[:, 4] > 0.1237\n",
    "\n",
    "sim_dat.y[(split) & (sim_dat.treatment == 1)].mean() - sim_dat.y[(split) & (sim_dat.treatment == 0)].mean()"
   ]
  },
  {
   "cell_type": "code",
   "execution_count": 406,
   "metadata": {
    "autoscroll": false,
    "collapsed": false,
    "ein.hycell": false,
    "ein.tags": "worksheet-0",
    "slideshow": {
     "slide_type": "-"
    }
   },
   "outputs": [
    {
     "data": {
      "text/plain": [
       "0.8734375006556282"
      ]
     },
     "execution_count": 406,
     "metadata": {},
     "output_type": "execute_result"
    }
   ],
   "source": [
    "sim_dat.y[(~split) & (sim_dat.treatment == 1)].mean() - sim_dat.y[(~split) & (sim_dat.treatment == 0)].mean()"
   ]
  },
  {
   "cell_type": "code",
   "execution_count": 417,
   "metadata": {
    "autoscroll": false,
    "collapsed": false,
    "ein.hycell": false,
    "ein.tags": "worksheet-0",
    "slideshow": {
     "slide_type": "-"
    }
   },
   "outputs": [
    {
     "data": {
      "text/plain": [
       "0.925117681406297"
      ]
     },
     "execution_count": 417,
     "metadata": {},
     "output_type": "execute_result"
    }
   ],
   "source": [
    "split = sim_dat.iloc[:, 0] > 0\n",
    "\n",
    "# split = sim_dat.iloc[:, 4] > 0.1237\n",
    "\n",
    "right = sim_dat.y[(split) & (sim_dat.treatment == 1)].mean() - sim_dat.y[(split) & (sim_dat.treatment == 0)].mean()\n",
    "\n",
    "left = sim_dat.y[(~split) & (sim_dat.treatment == 1)].mean() - sim_dat.y[(~split) & (sim_dat.treatment == 0)].mean()\n",
    "\n",
    "np.abs(left - right)"
   ]
  },
  {
   "cell_type": "code",
   "execution_count": 398,
   "metadata": {
    "autoscroll": false,
    "collapsed": false,
    "ein.hycell": false,
    "ein.tags": "worksheet-0",
    "slideshow": {
     "slide_type": "-"
    }
   },
   "outputs": [
    {
     "data": {
      "text/plain": [
       "3      -0.863831\n",
       "5      -1.300832\n",
       "6       0.716965\n",
       "9      -5.354481\n",
       "10     -1.920049\n",
       "          ...   \n",
       "9994   -1.482248\n",
       "9995   -3.187449\n",
       "9996   -1.511569\n",
       "9997   -3.340039\n",
       "9998   -1.317045\n",
       "Name: y, Length: 5415, dtype: float64"
      ]
     },
     "execution_count": 398,
     "metadata": {},
     "output_type": "execute_result"
    }
   ],
   "source": [
    "sim_dat.y[(sim_dat.iloc[:, 4] < 0.1237)]"
   ]
  },
  {
   "cell_type": "code",
   "execution_count": 383,
   "metadata": {
    "autoscroll": false,
    "collapsed": false,
    "ein.hycell": false,
    "ein.tags": "worksheet-0",
    "slideshow": {
     "slide_type": "-"
    }
   },
   "outputs": [
    {
     "data": {
      "text/plain": [
       "|--dim: 4, thresh: 0.1237, gain: 1.3143 \n",
       "   |--dim: 3, thresh: -0.1165, gain: 0.6556 \n",
       "      |--dim: 2, thresh: 0.0963, gain: 0.2884 \n",
       "         |--pred: 0.9733, score: 0.6167, N: 688 \n",
       "         |--pred: 0.9348, score: 0.4541, N: 562 \n",
       "      |--dim: 5, thresh: -0.1778, gain: 0.3650 \n",
       "         |--pred: 0.6768, score: 0.4965, N: 588 \n",
       "         |--pred: 0.8700, score: 0.8325, N: 877 \n",
       "   |--dim: 5, thresh: -0.0986, gain: 0.6409 \n",
       "      |--dim: 2, thresh: -0.5321, gain: 0.3041 \n",
       "         |--pred: 0.6900, score: 0.2758, N: 302 \n",
       "         |--pred: 0.6315, score: 0.7269, N: 788 \n",
       "      |--dim: 2, thresh: 0.0480, gain: 0.3803 \n",
       "         |--pred: 0.9040, score: 0.6026, N: 635 \n",
       "         |--pred: 0.8231, score: 0.5235, N: 560 "
      ]
     },
     "execution_count": 383,
     "metadata": {},
     "output_type": "execute_result"
    }
   ],
   "source": [
    "model.tree"
   ]
  },
  {
   "cell_type": "code",
   "execution_count": 200,
   "metadata": {
    "autoscroll": false,
    "collapsed": false,
    "ein.hycell": false,
    "ein.tags": "worksheet-0",
    "slideshow": {
     "slide_type": "-"
    }
   },
   "outputs": [
    {
     "data": {
      "text/plain": [
       "-0.09800523292342495"
      ]
     },
     "execution_count": 200,
     "metadata": {},
     "output_type": "execute_result"
    }
   ],
   "source": [
    "np.mean(model.predict(X[500:]))"
   ]
  },
  {
   "cell_type": "code",
   "execution_count": 201,
   "metadata": {
    "autoscroll": false,
    "collapsed": false,
    "ein.hycell": false,
    "ein.tags": "worksheet-0",
    "slideshow": {
     "slide_type": "-"
    }
   },
   "outputs": [
    {
     "data": {
      "text/plain": [
       "-0.07805119891851248"
      ]
     },
     "execution_count": 201,
     "metadata": {},
     "output_type": "execute_result"
    }
   ],
   "source": [
    "np.mean(sim_dat.y[sim_dat.treatment == 1]) - np.mean(sim_dat.y[sim_dat.treatment == 0])"
   ]
  },
  {
   "cell_type": "code",
   "execution_count": 59,
   "metadata": {
    "autoscroll": false,
    "collapsed": false,
    "ein.hycell": false,
    "ein.tags": "worksheet-0",
    "slideshow": {
     "slide_type": "-"
    }
   },
   "outputs": [
    {
     "data": {
      "text/plain": [
       "(array([  15,    0,   41,   23,   95,   47,   87,  103,  406, 1183]),\n",
       " array([-129.40835129, -116.21549089, -103.02263049,  -89.82977009,\n",
       "         -76.63690969,  -63.44404929,  -50.25118889,  -37.05832849,\n",
       "         -23.86546809,  -10.67260769,    2.52025272]))"
      ]
     },
     "execution_count": 59,
     "metadata": {},
     "output_type": "execute_result"
    }
   ],
   "source": [
    "model = TransferTreeRegressor(criterion = mse, max_depth = 5, min_samples_leaf = 10)\n",
    "\n",
    "model.fit(phi(X), y, sample_weight = weights)\n",
    "preds = model.predict(phi(X))\n",
    "# np.mean((preds - y)**2)\n",
    "\n",
    "np.histogram(preds)"
   ]
  },
  {
   "cell_type": "code",
   "execution_count": 60,
   "metadata": {
    "autoscroll": false,
    "collapsed": false,
    "ein.hycell": false,
    "ein.tags": "worksheet-0",
    "slideshow": {
     "slide_type": "-"
    }
   },
   "outputs": [
    {
     "data": {
      "text/plain": [
       "(array([  15,    0,   41,   23,   95,   47,   87,  103,  406, 1183]),\n",
       " array([-129.40835129, -116.21549089, -103.02263049,  -89.82977009,\n",
       "         -76.63690969,  -63.44404929,  -50.25118889,  -37.05832849,\n",
       "         -23.86546809,  -10.67260769,    2.52025272]))"
      ]
     },
     "execution_count": 60,
     "metadata": {},
     "output_type": "execute_result"
    }
   ],
   "source": [
    "from sklearn.tree import DecisionTreeRegressor\n",
    "model = DecisionTreeRegressor(max_depth=5, min_samples_leaf=10)\n",
    "\n",
    "model.fit(phi(X), y, sample_weight = weights)\n",
    "preds = model.predict(phi(X))\n",
    "np.mean((preds - y)**2)"
   ]
  },
  {
   "cell_type": "code",
   "execution_count": 34,
   "metadata": {
    "autoscroll": false,
    "collapsed": false,
    "ein.hycell": false,
    "ein.tags": "worksheet-0",
    "slideshow": {
     "slide_type": "-"
    }
   },
   "outputs": [
    {
     "data": {
      "text/plain": [
       "array([ 0.3661, 20.3762,  0.4404,  7.6768])"
      ]
     },
     "execution_count": 34,
     "metadata": {},
     "output_type": "execute_result"
    }
   ],
   "source": [
    "model = DecisionTreeRegressor(max_depth=4, min_samples_leaf=20)\n",
    "\n",
    "np.mean(np.array([run_model(dat, model, phi, 0, 3, use_weights = None, model_search = True) for i in range(10)]), 0)"
   ]
  },
  {
   "cell_type": "code",
   "execution_count": 35,
   "metadata": {
    "autoscroll": false,
    "collapsed": false,
    "ein.hycell": false,
    "ein.tags": "worksheet-0",
    "slideshow": {
     "slide_type": "-"
    }
   },
   "outputs": [
    {
     "data": {
      "text/plain": [
       "array([ 0.3656, 41.3072, 15.5   ,  1.5563])"
      ]
     },
     "execution_count": 35,
     "metadata": {},
     "output_type": "execute_result"
    }
   ],
   "source": [
    "np.mean(np.array([run_model(dat, model, phi, 0, 3, use_weights = None, model_search = False) for i in range(10)]), 0)"
   ]
  },
  {
   "cell_type": "code",
   "execution_count": 36,
   "metadata": {
    "autoscroll": false,
    "collapsed": false,
    "ein.hycell": false,
    "ein.tags": "worksheet-0",
    "slideshow": {
     "slide_type": "-"
    }
   },
   "outputs": [
    {
     "data": {
      "text/plain": [
       "array([11.7473, 32.487 , 11.613 ,  4.5725])"
      ]
     },
     "execution_count": 36,
     "metadata": {},
     "output_type": "execute_result"
    }
   ],
   "source": [
    "np.mean(np.array([run_model(dat, model, phi, 0, 3, use_weights = 1, model_search = True) for i in range(10)]), 0)"
   ]
  },
  {
   "cell_type": "code",
   "execution_count": 37,
   "metadata": {
    "autoscroll": false,
    "collapsed": false,
    "ein.hycell": false,
    "ein.tags": "worksheet-0",
    "slideshow": {
     "slide_type": "-"
    }
   },
   "outputs": [
    {
     "data": {
      "text/plain": [
       "array([12.42759, 25.75614,  5.67631,  3.50874])"
      ]
     },
     "execution_count": 37,
     "metadata": {},
     "output_type": "execute_result"
    }
   ],
   "source": [
    "np.mean(np.array([run_model(dat, model, phi, 0, 3, use_weights = 1, model_search = False) for i in range(10)]), 0)"
   ]
  },
  {
   "cell_type": "code",
   "execution_count": 38,
   "metadata": {
    "autoscroll": false,
    "collapsed": false,
    "ein.hycell": false,
    "ein.tags": "worksheet-0",
    "slideshow": {
     "slide_type": "-"
    }
   },
   "outputs": [
    {
     "data": {
      "text/plain": [
       "array([ 0.3661, 20.3762,  0.4404,  7.6768])"
      ]
     },
     "execution_count": 38,
     "metadata": {},
     "output_type": "execute_result"
    }
   ],
   "source": [
    "model = TransferTreeRegressor(criterion=mse, max_depth=4, min_samples_leaf=20)\n",
    "\n",
    "np.mean(np.array([run_model(dat, model, phi, 0, 3, use_weights = None, model_search = True) for i in range(10)]), 0)"
   ]
  },
  {
   "cell_type": "code",
   "execution_count": 39,
   "metadata": {
    "autoscroll": false,
    "collapsed": false,
    "ein.hycell": false,
    "ein.tags": "worksheet-0",
    "slideshow": {
     "slide_type": "-"
    }
   },
   "outputs": [
    {
     "data": {
      "text/plain": [
       "array([ 0.3656, 41.3072, 15.5   ,  1.5563])"
      ]
     },
     "execution_count": 39,
     "metadata": {},
     "output_type": "execute_result"
    }
   ],
   "source": [
    "np.mean(np.array([run_model(dat, model, phi, 0, 3, use_weights = None, model_search = False) for i in range(10)]), 0)"
   ]
  },
  {
   "cell_type": "code",
   "execution_count": 52,
   "metadata": {
    "autoscroll": false,
    "collapsed": false,
    "ein.hycell": false,
    "ein.tags": "worksheet-0",
    "slideshow": {
     "slide_type": "-"
    }
   },
   "outputs": [
    {
     "data": {
      "text/plain": [
       "array([11.3818, 32.1958, 11.2033,  3.5604])"
      ]
     },
     "execution_count": 52,
     "metadata": {},
     "output_type": "execute_result"
    }
   ],
   "source": [
    "np.mean(np.array([run_model(dat, model, phi, 0, 3, use_weights = 1, model_search = True) for i in range(10)]), 0)"
   ]
  },
  {
   "cell_type": "code",
   "execution_count": 51,
   "metadata": {
    "autoscroll": false,
    "collapsed": false,
    "ein.hycell": false,
    "ein.tags": "worksheet-0",
    "slideshow": {
     "slide_type": "-"
    }
   },
   "outputs": [
    {
     "data": {
      "text/plain": [
       "array([10.9098,  4.9235,  3.2745,  3.7268])"
      ]
     },
     "execution_count": 51,
     "metadata": {},
     "output_type": "execute_result"
    }
   ],
   "source": [
    "np.mean(np.array([run_model(dat, model, phi, 0, 3, use_weights = 1, model_search = False) for i in range(10)]), 0)"
   ]
  },
  {
   "cell_type": "code",
   "execution_count": 42,
   "metadata": {
    "autoscroll": false,
    "collapsed": false,
    "ein.hycell": false,
    "ein.tags": "worksheet-0",
    "slideshow": {
     "slide_type": "-"
    }
   },
   "outputs": [
    {
     "data": {
      "text/plain": [
       "[0.3605, 21.2762, 16.201, 7.1304]"
      ]
     },
     "execution_count": 42,
     "metadata": {},
     "output_type": "execute_result"
    }
   ],
   "source": [
    "model = LinearRegression(fit_intercept=False)\n",
    "run_model(dat, model, phi, 0, 1, use_weights = None, model_search = False)"
   ]
  },
  {
   "cell_type": "code",
   "execution_count": 31,
   "metadata": {
    "autoscroll": false,
    "collapsed": false,
    "ein.hycell": false,
    "ein.tags": "worksheet-0",
    "slideshow": {
     "slide_type": "-"
    }
   },
   "outputs": [
    {
     "data": {
      "text/plain": [
       "[0.4141, 20.8479, 0.2354, 6.2956]"
      ]
     },
     "execution_count": 31,
     "metadata": {},
     "output_type": "execute_result"
    }
   ],
   "source": [
    "run_model(dat, model, phi, 0, 3, use_weights = None, model_search = True)"
   ]
  },
  {
   "cell_type": "code",
   "execution_count": 32,
   "metadata": {
    "autoscroll": false,
    "collapsed": false,
    "ein.hycell": false,
    "ein.tags": "worksheet-0",
    "slideshow": {
     "slide_type": "-"
    }
   },
   "outputs": [
    {
     "data": {
      "text/plain": [
       "[12.3876, 41.752, 16.8672, 4.4122]"
      ]
     },
     "execution_count": 32,
     "metadata": {},
     "output_type": "execute_result"
    }
   ],
   "source": [
    "run_model(dat, model, phi, 0, 1, use_weights = 1, model_search = False)"
   ]
  },
  {
   "cell_type": "code",
   "execution_count": 33,
   "metadata": {
    "autoscroll": false,
    "collapsed": false,
    "ein.hycell": false,
    "ein.tags": "worksheet-0",
    "slideshow": {
     "slide_type": "-"
    }
   },
   "outputs": [
    {
     "data": {
      "text/plain": [
       "[11.362, 31.8239, 11.2857, 4.7136]"
      ]
     },
     "execution_count": 33,
     "metadata": {},
     "output_type": "execute_result"
    }
   ],
   "source": [
    "run_model(dat, model, phi, 0, 3, use_weights = 1, model_search = True)"
   ]
  },
  {
   "cell_type": "code",
   "execution_count": 1802,
   "metadata": {
    "autoscroll": false,
    "collapsed": false,
    "ein.hycell": false,
    "ein.tags": "worksheet-0",
    "slideshow": {
     "slide_type": "-"
    }
   },
   "outputs": [],
   "source": [
    "# get residuals for \"sets\" separately\n",
    "# compute distance between residuals\n",
    "# optimize squared errors + penalty for residual distance\n",
    "\n",
    "# search for \"sets\" by looking at residuals and fitting a mixture model\n",
    "# then optimize to remove that mixture...\n",
    "\n",
    "# set up an adversarial problem: the adversary tries to find a \n",
    "# mixture model in your reiduals, the classifier tries to make force the\n",
    "# adversary to fit a 1-component mixture, for example... "
   ]
  },
  {
   "cell_type": "code",
   "execution_count": null,
   "metadata": {
    "autoscroll": false,
    "collapsed": false,
    "ein.hycell": false,
    "ein.tags": "worksheet-0",
    "slideshow": {
     "slide_type": "-"
    }
   },
   "outputs": [],
   "source": []
  }
 ],
 "metadata": {
  "kernelspec": {
   "argv": [
    "/opt/conda/bin/python",
    "-m",
    "ipykernel_launcher",
    "-f",
    "{connection_file}"
   ],
   "display_name": "Python 3",
   "env": null,
   "interrupt_mode": "signal",
   "language": "python",
   "metadata": null,
   "name": "python3"
  },
  "name": "simulate.ipynb"
 },
 "nbformat": 4,
 "nbformat_minor": 2
}
