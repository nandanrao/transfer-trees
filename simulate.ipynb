{
 "cells": [
  {
   "cell_type": "code",
   "execution_count": null,
   "metadata": {
    "autoscroll": false,
    "collapsed": false,
    "ein.hycell": false,
    "ein.tags": "worksheet-0",
    "slideshow": {
     "slide_type": "-"
    }
   },
   "outputs": [],
   "source": [
    "# ! pip install --user --upgrade scipy numba\n",
    "# ! pip install --user psutil\n",
    "# ! pip install --user statsmodels"
   ]
  },
  {
   "cell_type": "code",
   "execution_count": 1,
   "metadata": {
    "collapsed": false
   },
   "outputs": [],
   "source": [
    "import os\n",
    "\n",
    "os.environ['NUMBA_DISABLE_JIT'] = '1'"
   ]
  },
  {
   "cell_type": "code",
   "execution_count": 1,
   "metadata": {
    "autoscroll": false,
    "collapsed": false,
    "ein.hycell": false,
    "ein.tags": "worksheet-0",
    "slideshow": {
     "slide_type": "-"
    }
   },
   "outputs": [],
   "source": [
    "%load_ext autoreload\n",
    "%autoreload 2"
   ]
  },
  {
   "cell_type": "code",
   "execution_count": 2,
   "metadata": {
    "autoscroll": false,
    "collapsed": false,
    "ein.hycell": false,
    "ein.tags": "worksheet-0",
    "slideshow": {
     "slide_type": "-"
    }
   },
   "outputs": [],
   "source": [
    "import numpy as np\n",
    "import seaborn as sns\n",
    "from joblib import Parallel, delayed\n",
    "\n",
    "from trees import TransferTreeRegressor, build_tree, Node, collect_score\n",
    "from simulation import generate_data, split_out_dat\n",
    "from criteria import mse, transfer, causal_tree_criterion\n",
    "\n",
    "\n",
    "import matplotlib.pyplot as plt\n",
    "plt.rcParams['figure.figsize'] = [14, 2.5]"
   ]
  },
  {
   "cell_type": "code",
   "execution_count": 3,
   "metadata": {
    "autoscroll": false,
    "collapsed": false,
    "ein.hycell": false,
    "ein.tags": "worksheet-0",
    "slideshow": {
     "slide_type": "-"
    }
   },
   "outputs": [],
   "source": [
    "from trees import Leaf\n",
    "leaf = Leaf(0,0,0,0)\n",
    "\n",
    "def plot_split(node, X, tau, context_idxs):\n",
    "    idx = X[:, node.dim] > node.thresh\n",
    "    d = np.vstack([tau, idx, context_idxs]).T\n",
    "    df = pd.DataFrame(d, columns = ['tau', 'split', 'ctx'])\n",
    "\n",
    "    for _, d in df.groupby('split'):\n",
    "        v = d.groupby('ctx').mean().tau.values\n",
    "        print(d.groupby('ctx').mean().tau.values)\n",
    "    # sns.distplot(df)\n",
    "    g = sns.FacetGrid(df, row = 'split', hue = 'ctx', aspect=5.0)\n",
    "    g.map(sns.distplot, 'tau', bins=10, kde=False)\n",
    "    plt.legend()"
   ]
  },
  {
   "cell_type": "code",
   "execution_count": 4,
   "metadata": {
    "autoscroll": false,
    "collapsed": false,
    "ein.hycell": false,
    "ein.tags": "worksheet-0",
    "slideshow": {
     "slide_type": "-"
    }
   },
   "outputs": [],
   "source": [
    "from sklearn.metrics import mean_squared_error, r2_score\n",
    "from simulation import Dataset\n",
    "from collections import namedtuple\n",
    "from copy import deepcopy\n",
    "\n",
    "Results = namedtuple('Results', ['mse', 'r2', 'r2t', 'predictions', 'data', 'model', 'model_name'])\n",
    "\n",
    "def fit_model(model, dat: Dataset):\n",
    "    model_name, model, fit_fn = model\n",
    "    model = deepcopy(model)\n",
    "    model.fit(**fit_fn(dat))\n",
    "\n",
    "    preds = model.predict(dat.phi.target, 0.95)\n",
    "\n",
    "    mse = mean_squared_error(dat.tau.target, preds[:, 0])\n",
    "    r2 = r2_score(dat.tau.target, preds[:, 0])    \n",
    "\n",
    "    r2t = 1 - (mse / np.mean((dat.tau.target - np.mean(dat.tau.source))**2))\n",
    "\n",
    "    return Results(mse, r2, r2t, preds, dat, model, model_name)"
   ]
  },
  {
   "cell_type": "code",
   "execution_count": 5,
   "metadata": {
    "collapsed": false
   },
   "outputs": [],
   "source": [
    "import pandas as pd\n",
    "\n",
    "def stats_df(dat):\n",
    "    return pd.DataFrame(dat, columns=['value', 'model'])\n",
    "\n",
    "def pipe(*fns):\n",
    "    def fn(res):\n",
    "        for f in fns:\n",
    "            res = f(res)\n",
    "        return res\n",
    "    return lambda f: lambda *a, **k: fn(f(*a, **k))\n",
    "\n",
    "def plot_dist(df, **kwargs):\n",
    "    for model, df in df.groupby('model'):\n",
    "        sns.distplot(df.value, label=model, **kwargs)\n",
    "    plt.legend()\n",
    "    plt.show()\n",
    "\n",
    "\n",
    "def _get_within_ci(preds, taus):\n",
    "    return pd.DataFrame(preds, columns = ['pred', 'lower', 'upper']) \\\n",
    "             .assign(true = taus) \\\n",
    "             .groupby('pred') \\\n",
    "             .apply(lambda df: df.assign(true_cate = df.true.mean())) \\\n",
    "             .pipe(lambda df: df.assign(within_int = \\\n",
    "                                        (df.true_cate <= df.upper) & \\\n",
    "                                        (df.true_cate >= df.lower))) \\\n",
    "             .pipe(lambda df: df['within_int'].sum() / df.shape[0])\n",
    "\n",
    "\n",
    "@pipe(stats_df)\n",
    "def compare(fn, baseline, vals):\n",
    "    comp = lambda a,b: (a-b)/b\n",
    "\n",
    "    bs = [fn(m) for v in vals for m in v if m.model_name == baseline]\n",
    "\n",
    "    return [(comp(fn(m), b), m.model_name)\n",
    "            for v, b in zip(vals, bs)\n",
    "            for m in v\n",
    "            if m.model_name != baseline]\n",
    "\n",
    "\n",
    "# pick\n",
    "\n",
    "\n",
    "def r_squared(results):\n",
    "    tau_var = lambda r: np.mean((np.mean(r.data.tau.target) - r.data.tau.target)**2)\n",
    "    return pick(lambda m: 1 - m.mse/tau_var(m), results)\n",
    "\n",
    "def plot_and_print(df, **kwargs):\n",
    "    plot_dist(df, **kwargs)\n",
    "    print(df.groupby('model').mean())\n",
    "\n",
    "def runrun(models, params):\n",
    "    dat = generate_data(**{**params(), 'plot': False})\n",
    "    dat = split_out_dat(dat)\n",
    "    return [fit_model(model, dat) for model in models]\n",
    "\n",
    "def data_check(params):\n",
    "    generate_data(**{**params, 'plot': True})\n",
    "\n",
    "def compare_feature_importance(model):\n",
    "    a, b = model.feature_importance(gain=False)\n",
    "    return a / (a + b)\n",
    "\n",
    "def rezz(r):\n",
    "    return {\n",
    "        'r2': r.r2,\n",
    "        'r2t': r.r2t,\n",
    "        'mse': r.mse,\n",
    "        'tree-size': len(r.model.tree),\n",
    "        'V-importance': compare_feature_importance(r.model),\n",
    "        'CI-coverage': _get_within_ci(r.predictions, r.data.tau.target)\n",
    "    }\n",
    "\n",
    "\n",
    "def format_results(results):    \n",
    "    r = [{'fn': fn, 'dgp':dgp, 'model': r.model_name, **rezz(r)} \n",
    "               for fn, dgp, res in results for r in res]    \n",
    "\n",
    "    return pd.DataFrame(r)\n",
    "\n",
    "from statsmodels.iolib.summary2 import _df_to_simpletable, _formatter\n",
    "\n",
    "def print_table(d):\n",
    "    table = _df_to_simpletable(d, float_format=\"%.2f\", index=False)\n",
    "    s = table.as_latex_tabular()\n",
    "    print(s)"
   ]
  },
  {
   "cell_type": "code",
   "execution_count": 6,
   "metadata": {
    "autoscroll": false,
    "collapsed": false,
    "ein.hycell": false,
    "ein.tags": "worksheet-0",
    "slideshow": {
     "slide_type": "-"
    }
   },
   "outputs": [],
   "source": [
    "# ys, Xs, taus = zip(*dat)\n",
    "# from sklearn.linear_model import LinearRegression\n",
    "\n",
    "# LinearRegression().fit(Xs[0], ys[0]).coef_, LinearRegression().fit(Xs[1], ys[1]).coef_, LinearRegression().fit(Xs[2], ys[2]).coef_, LinearRegression().fit(Xs[3], ys[3]).coef_\n",
    "\n",
    "# for d in [LinearRegression().fit(Xs[i], taus[i]).coef_ for i in range(4)]:\n",
    "#     print(d)\n",
    "\n",
    "# for d in [LinearRegression(fit_intercept=True).fit(Xs[i][:, 1:3], taus[i]).predict(Xs[0][:, 1:3]) for i in range(4)]:\n",
    "#     sns.scatterplot(Xs[0][:, 1], d, alpha=0.3)"
   ]
  },
  {
   "cell_type": "code",
   "execution_count": 15,
   "metadata": {
    "collapsed": false
   },
   "outputs": [],
   "source": [
    "transfer_best = TransferTreeRegressor(criterion = transfer, \n",
    "                                      max_depth = 7, \n",
    "                                      min_samples_leaf = 50,\n",
    "                                      alpha = None)\n",
    "\n",
    "transfer_base = lambda dat: ({'X': dat.phi.source, \n",
    "                              'y': dat.y.source, \n",
    "                              'treatment': dat.treatment,\n",
    "                              'context_idxs': dat.context_idxs, \n",
    "                              'target_X': dat.phi.target,\n",
    "                              'min_samples': 25,\n",
    "                              'honest': True})\n",
    "\n",
    "models = [\n",
    "    # ('TTT', \n",
    "    #  transfer_best,\n",
    "    #  lambda dat: ({**transfer_base(dat), \n",
    "    #                'xp_version': 7,\n",
    "    #                'prediction_mode': 1,\n",
    "    #                'importance': False})),\n",
    "\n",
    "    # ('TTT-MI', \n",
    "    #  transfer_best,\n",
    "    #  lambda dat: ({**transfer_base(dat), \n",
    "    #                'xp_version': 9,\n",
    "    #                'prediction_mode': 1,\n",
    "    #                'importance': True})),\n",
    "\n",
    "    # ('TTT-M', \n",
    "    #  transfer_best,\n",
    "    #  lambda dat: ({**transfer_base(dat), \n",
    "    #                'xp_version': 6,\n",
    "    #                'prediction_mode': 1,\n",
    "    #                'importance': False})),\n",
    "\n",
    "    # ('TTT', \n",
    "    #  transfer_best,\n",
    "    #  lambda dat: ({**transfer_base(dat), \n",
    "    #                'xp_version': 8,\n",
    "    #                'prediction_mode': 1,\n",
    "    #                'importance': False})),\n",
    "\n",
    "    ('TTT-I', \n",
    "     transfer_best,\n",
    "     lambda dat: ({**transfer_base(dat), \n",
    "                   'xp_version': 8,\n",
    "                   'prediction_mode': 1,\n",
    "                   'importance': True})),\n",
    "\n",
    "    ('TTT-M', \n",
    "     transfer_best,\n",
    "     lambda dat: ({**transfer_base(dat), \n",
    "                   'xp_version': 9,\n",
    "                   'prediction_mode': 1,\n",
    "                   'importance': False})),\n",
    "\n",
    "    ('CT',\n",
    "     TransferTreeRegressor(criterion = causal_tree_criterion, \n",
    "                           max_depth = 7, \n",
    "                           min_samples_leaf = 50,\n",
    "                           alpha = None),\n",
    "\n",
    "     lambda dat: ({'X': dat.phi.source,\n",
    "                   'y': dat.y.source, \n",
    "                   'treatment': dat.treatment,\n",
    "                   'min_samples': 25,\n",
    "                   'honest': True,\n",
    "                   'var_weight': 0.5})),\n",
    "]\n",
    "\n",
    "\n"
   ]
  },
  {
   "cell_type": "code",
   "execution_count": null,
   "metadata": {
    "collapsed": false
   },
   "outputs": [],
   "source": [
    "data_check({**gen_params(1000, 4), 'fn': FUNCTIONS['nl-hard']})"
   ]
  },
  {
   "cell_type": "code",
   "execution_count": 16,
   "metadata": {
    "collapsed": false
   },
   "outputs": [
    {
     "name": "stderr",
     "output_type": "stream",
     "text": [
      "/home/jupyter/.local/lib/python3.8/site-packages/joblib/externals/loky/process_executor.py:703: UserWarning: A worker stopped while some jobs were given to the executor. This can be caused by a too short worker timeout or by a memory leak.\n",
      "  warnings.warn(\n"
     ]
    },
    {
     "name": "stdout",
     "output_type": "stream",
     "text": [
      "CPU times: user 47.3 s, sys: 5.6 s, total: 52.9 s\n",
      "Wall time: 12min 30s\n"
     ]
    }
   ],
   "source": [
    "%%time\n",
    "\n",
    "from scipy.stats import invgamma\n",
    "\n",
    "def gen_params(N, K):\n",
    "    ps = { 'hiddens': [(0,2)]*K,\n",
    "           'hidden_cause': True,\n",
    "           'N': N,\n",
    "           'v_conds': list(zip(*(np.random.uniform(low=-2, high=2, size=K),\n",
    "                            np.random.uniform(low=-4, high=6, size=K),\n",
    "                            invgamma.rvs(20, scale=10, size=K)))),\n",
    "\n",
    "           'z_conds': list(zip(*(np.random.uniform(low=-2, high=4, size=K),\n",
    "                                 invgamma.rvs(20, scale=30, size=K)))) \n",
    "    }\n",
    "\n",
    "    return ps\n",
    "\n",
    "\n",
    "def param_group(fn, K): \n",
    "    return [\n",
    "        ('UP', lambda: ({'fn': fn, **gen_params(1000, K)})),\n",
    "        ('FS', lambda: ({'fn': fn, **gen_params(1000, K),\n",
    "                  'v_conds': [(0.5,0,1)]*K,\n",
    "                  'z_conds': [(2,2)]*K}))\n",
    "    ]\n",
    "\n",
    "# FUNCTIONS = {\n",
    "#     'nl-hard': lambda h,v,z,w: -w*(h > 0).astype(int) + 0.5*w*(z > 0).astype(int) + np.random.normal(0, 0.25, size = h.shape[0]),\n",
    "#     'nl-simple': lambda h,v,z,w: -w*(h > 0).astype(int) + w*(z > 0).astype(int) + np.random.normal(0, 0.1, size = h.shape[0]),\n",
    "#     'linear': lambda h,v,z,w: -w*h + 0.5*w*z + np.random.normal(0, 0.1, size = h.shape[0])\n",
    "# }\n",
    "\n",
    "\n",
    "FUNCTIONS = {\n",
    "    # 'nl-hard': lambda h,v,z,w: -w*(h > 0).astype(int) + 0.5*w*(z > 0).astype(int) + np.random.normal(0, 0.25, size = h.shape[0]),\n",
    "    'nl-hard': lambda h,v,z,w: -w*h*(h > 0).astype(int) + 0.5*w*z*(z > 0).astype(int) + np.random.normal(0, 0.5, size = h.shape[0]),\n",
    "\n",
    "    'nl-stacked': lambda h,v,z,w: \\\n",
    "    np.array([w*(h > i).astype(int) for i in range(-2,4,2)]).sum(axis=0) + \\\n",
    "    np.array([0.5*w*(z > i).astype(int) for i in range(-2,4,2)]).sum(axis=0) + \\\n",
    "    np.random.normal(0, 0.1, size = h.shape[0]),\n",
    "\n",
    "    'nl-simple': lambda h,v,z,w: -w*(h > 0).astype(int) + w*(z > 0).astype(int) + np.random.normal(0, 0.1, size = h.shape[0]),\n",
    "    'linear': lambda h,v,z,w: -w*h + 0.5*w*z + np.random.normal(0, 0.1, size = h.shape[0])\n",
    "}\n",
    "\n",
    "\n",
    "results = [(fn, pp, res)\n",
    "           for fn, f in FUNCTIONS.items()\n",
    "           for pp, params in param_group(f, 5)\n",
    "           for res in Parallel(n_jobs=-1)(delayed(runrun)(models, params) for i in range(128))]"
   ]
  },
  {
   "cell_type": "code",
   "execution_count": 17,
   "metadata": {
    "collapsed": false
   },
   "outputs": [
    {
     "name": "stderr",
     "output_type": "stream",
     "text": [
      "<ipython-input-5-b61cdf56cd78>:64: RuntimeWarning: invalid value encountered in double_scalars\n",
      "  return a / (a + b)\n"
     ]
    }
   ],
   "source": [
    "df = format_results(results)"
   ]
  },
  {
   "cell_type": "code",
   "execution_count": 91,
   "metadata": {
    "collapsed": false
   },
   "outputs": [],
   "source": [
    "# df.to_csv('results-1000-3-pooled.csv', index=False)"
   ]
  },
  {
   "cell_type": "code",
   "execution_count": 87,
   "metadata": {
    "collapsed": false
   },
   "outputs": [],
   "source": [
    "# df = pd.read_csv('results-1000-4-pooled-2.csv')"
   ]
  },
  {
   "cell_type": "code",
   "execution_count": 18,
   "metadata": {
    "collapsed": false
   },
   "outputs": [
    {
     "name": "stdout",
     "output_type": "stream",
     "text": [
      "\\begin{center}\n",
      "\\begin{tabular}{cccccccccc}\n",
      "\\hline\n",
      "  measure    & model & linear & nl-hard & nl-simple & nl-stacked & linear & nl-hard & nl-simple & nl-stacked  \\\\\n",
      "\\hline\n",
      "\\hline\n",
      "\\end{tabular}\n",
      "\\begin{tabular}{rrrrrrrrrr}\n",
      "     r2t-0.1 &    CT &   0.49 &    0.41 &      0.49 &       0.41 &  -1.08 &   -0.38 &     -0.12 &      -0.85  \\\\\n",
      "     r2t-0.1 & TTT-I &   0.28 &    0.26 &      0.34 &       0.24 &  -1.40 &   -0.49 &     -0.02 &      -0.86  \\\\\n",
      "     r2t-0.1 & TTT-M &   0.43 &    0.36 &      0.46 &       0.24 &  -0.38 &    0.03 &      0.25 &      -0.13  \\\\\n",
      "     r2t-0.5 &    CT &   0.52 &    0.44 &      0.52 &       0.44 &  -0.02 &    0.14 &      0.29 &      -0.01  \\\\\n",
      "     r2t-0.5 & TTT-I &   0.32 &    0.32 &      0.40 &       0.30 &   0.06 &    0.12 &      0.37 &       0.13  \\\\\n",
      "     r2t-0.5 & TTT-M &   0.47 &    0.41 &      0.50 &       0.33 &   0.15 &    0.20 &      0.42 &       0.14  \\\\\n",
      "     r2t-0.9 &    CT &   0.55 &    0.48 &      0.55 &       0.47 &   0.47 &    0.44 &      0.64 &       0.46  \\\\\n",
      "     r2t-0.9 & TTT-I &   0.37 &    0.37 &      0.47 &       0.35 &   0.44 &    0.39 &      0.60 &       0.43  \\\\\n",
      "     r2t-0.9 & TTT-M &   0.52 &    0.44 &      0.53 &       0.41 &   0.38 &    0.41 &      0.62 &       0.28  \\\\\n",
      "    r2t-mean &    CT &   0.52 &    0.44 &      0.52 &       0.44 &  -0.20 &    0.06 &      0.28 &      -0.12  \\\\\n",
      "    r2t-mean & TTT-I &   0.32 &    0.32 &      0.40 &       0.30 &  -0.28 &   -0.01 &      0.30 &      -0.08  \\\\\n",
      "    r2t-mean & TTT-M &   0.47 &    0.40 &      0.50 &       0.32 &   0.04 &    0.20 &      0.41 &       0.09  \\\\\n",
      "    mse-mean &    CT &   2.40 &    1.44 &      0.19 &       0.60 &   6.57 &    2.40 &      0.36 &       1.31  \\\\\n",
      "    mse-mean & TTT-I &   3.39 &    1.76 &      0.24 &       0.75 &   7.03 &    2.55 &      0.36 &       1.26  \\\\\n",
      "    mse-mean & TTT-M &   2.65 &    1.55 &      0.20 &       0.72 &   5.32 &    2.05 &      0.30 &       1.07  \\\\\n",
      "V-importance &    CT &   0.58 &    0.46 &      0.65 &       0.60 &   0.54 &    0.51 &      0.62 &       0.60  \\\\\n",
      "V-importance & TTT-I &   0.93 &    0.38 &      0.91 &       0.81 &   0.43 &    0.34 &      0.31 &       0.48  \\\\\n",
      "V-importance & TTT-M &   0.61 &    0.44 &      0.53 &       0.78 &   0.27 &    0.20 &      0.15 &       0.17  \\\\\n",
      " CI-coverage &    CT &   0.76 &    0.76 &      0.73 &       0.75 &   0.20 &    0.25 &      0.11 &       0.19  \\\\\n",
      " CI-coverage & TTT-I &   1.00 &    1.00 &      1.00 &       1.00 &   0.63 &    0.81 &      0.81 &       0.75  \\\\\n",
      " CI-coverage & TTT-M &   1.00 &    1.00 &      1.00 &       1.00 &   0.82 &    0.93 &      0.91 &       0.86  \\\\\n",
      "   tree-size &    CT &   7.57 &    7.52 &      7.16 &       7.37 &   7.81 &    7.62 &      7.38 &       7.62  \\\\\n",
      "   tree-size & TTT-I &   7.99 &    8.00 &      8.00 &       8.00 &   6.91 &    7.10 &      7.64 &       7.90  \\\\\n",
      "   tree-size & TTT-M &   6.38 &    6.23 &      4.84 &       4.41 &   5.47 &    5.52 &      4.39 &       4.48  \\\\\n",
      "\\hline\n",
      "\\end{tabular}\n",
      "\\end{center}\n"
     ]
    }
   ],
   "source": [
    "def get_measure(q, fn, df):\n",
    "    d = fn(df.groupby(['model', 'dgp', 'fn']))\n",
    "    d = d.unstack(level=[2,1]).reset_index()\n",
    "    d.columns = d.columns.get_level_values(0)\n",
    "    d.insert(0, 'measure', q)\n",
    "    return d\n",
    "# print_table(d)\n",
    "\n",
    "measures = [\n",
    "    ('r2t-0.1', lambda d: d.r2t.quantile(.1)),\n",
    "    ('r2t-0.5', lambda d: d.r2t.quantile(.5)),\n",
    "    ('r2t-0.9', lambda d: d.r2t.quantile(.9)),\n",
    "    ('r2t-mean', lambda d: d.r2t.mean()),\n",
    "    ('mse-mean', lambda d: d.mse.mean()),\n",
    "    ('V-importance', lambda d: d['V-importance'].mean()),\n",
    "    ('CI-coverage', lambda d: d['CI-coverage'].mean()),        \n",
    "    ('tree-size', lambda d: d['tree-size'].mean()),        \n",
    "]\n",
    "\n",
    "print_table(pd.concat([get_measure(q, fn, df) for q, fn in measures]))"
   ]
  },
  {
   "cell_type": "code",
   "execution_count": 79,
   "metadata": {
    "collapsed": false
   },
   "outputs": [],
   "source": [
    "def plot_dist(df, var, **kwargs):\n",
    "    for model, d in df.groupby(['model']):\n",
    "        sns.distplot(d[var], label=model, **kwargs)\n",
    "    plt.legend()\n",
    "    # plt.xlim(-1, 1)\n",
    "    plt.show()\n",
    "\n",
    "\n"
   ]
  },
  {
   "cell_type": "code",
   "execution_count": 78,
   "metadata": {
    "collapsed": false
   },
   "outputs": [],
   "source": [
    "?sns.distplot"
   ]
  },
  {
   "cell_type": "code",
   "execution_count": null,
   "metadata": {
    "collapsed": false
   },
   "outputs": [],
   "source": [
    "plot_dist(df, 'r2t', bins=100, kde=False)"
   ]
  },
  {
   "cell_type": "code",
   "execution_count": null,
   "metadata": {
    "collapsed": false
   },
   "outputs": [],
   "source": [
    "plot_dist(df, 'CI-coverage', bins=100, kde=False)"
   ]
  },
  {
   "cell_type": "code",
   "execution_count": null,
   "metadata": {
    "collapsed": false
   },
   "outputs": [],
   "source": []
  },
  {
   "cell_type": "code",
   "execution_count": 165,
   "metadata": {
    "autoscroll": false,
    "collapsed": false,
    "ein.hycell": false,
    "ein.tags": "worksheet-0",
    "slideshow": {
     "slide_type": "-"
    }
   },
   "outputs": [
    {
     "name": "stdout",
     "output_type": "stream",
     "text": [
      "CPU times: user 276 ms, sys: 4 ms, total: 280 ms\n",
      "Wall time: 43.7 s\n"
     ]
    }
   ],
   "source": [
    "%%time\n",
    "\n",
    "params = lambda: ({\n",
    "    'N': 1000,\n",
    "    # 'fn': lambda h,v,z,w: -w*h*(h > 0).astype(int) + 0.5*w*z*(z > 0).astype(int) + np.random.normal(0, 0.25, size = h.shape[0]),\n",
    "    # 'fn': lambda h,v,z,w: -w*h + \\\n",
    "    # np.array([0.5*w*(z > i).astype(int) for i in range(2)]).sum(axis=0) + \\\n",
    "    # np.random.normal(0, 0.5, size = h.shape[0]),\n",
    "\n",
    "    # 'fn': lambda h,v,z,w: -w*(h > 0).astype(int) + w*(z > 0).astype(int) + np.random.normal(0, 0.01, size = h.shape[0]),\n",
    "    # 'fn': lambda h,v,z,w: -w*h + 0.5*w*z + np.random.normal(0, 0.5, size = h.shape[0]),\n",
    "    'fn': lambda h,v,z,w: -w*(h > 0).astype(int) + w*(z > 0).astype(int) + np.random.normal(0, 0.1, size = h.shape[0]),\n",
    "    'hidden_cause': True,\n",
    "    **gen_params(4)\n",
    "})\n",
    "\n",
    "\n",
    "results = Parallel(n_jobs=-1)(delayed(runrun)(models, params) for i in range(10))"
   ]
  },
  {
   "cell_type": "code",
   "execution_count": 103,
   "metadata": {
    "collapsed": false
   },
   "outputs": [
    {
     "data": {
      "text/html": [
       "<div>\n",
       "<style scoped>\n",
       "    .dataframe tbody tr th:only-of-type {\n",
       "        vertical-align: middle;\n",
       "    }\n",
       "\n",
       "    .dataframe tbody tr th {\n",
       "        vertical-align: top;\n",
       "    }\n",
       "\n",
       "    .dataframe thead th {\n",
       "        text-align: right;\n",
       "    }\n",
       "</style>\n",
       "<table border=\"1\" class=\"dataframe\">\n",
       "  <thead>\n",
       "    <tr style=\"text-align: right;\">\n",
       "      <th></th>\n",
       "      <th>value</th>\n",
       "    </tr>\n",
       "    <tr>\n",
       "      <th>model</th>\n",
       "      <th></th>\n",
       "    </tr>\n",
       "  </thead>\n",
       "  <tbody>\n",
       "    <tr>\n",
       "      <th>causal-best-tree</th>\n",
       "      <td>0.191655</td>\n",
       "    </tr>\n",
       "    <tr>\n",
       "      <th>transfer-5-pm1</th>\n",
       "      <td>0.272921</td>\n",
       "    </tr>\n",
       "    <tr>\n",
       "      <th>transfer-5-pm1-importance</th>\n",
       "      <td>0.169742</td>\n",
       "    </tr>\n",
       "  </tbody>\n",
       "</table>\n",
       "</div>"
      ],
      "text/plain": [
       "                              value\n",
       "model                              \n",
       "causal-best-tree           0.191655\n",
       "transfer-5-pm1             0.272921\n",
       "transfer-5-pm1-importance  0.169742"
      ]
     },
     "execution_count": 103,
     "metadata": {},
     "output_type": "execute_result"
    }
   ],
   "source": [
    "pick(lambda m: m.r2, results).groupby('model').quantile(.5)"
   ]
  },
  {
   "cell_type": "code",
   "execution_count": null,
   "metadata": {
    "collapsed": false
   },
   "outputs": [],
   "source": [
    "plot_and_print(compare(lambda d: d.mse, 'causal-best-tree', results), bins=20)\n",
    "plot_and_print(r_squared(results))\n",
    "plot_and_print(compare_cis(results))\n",
    "plot_and_print(pick(lambda m: collect_score(m.model.tree), results))\n",
    "plot_and_print(pick(lambda m: len(m.model.tree), results))\n",
    "plot_and_print(pick(lambda d: d.model.feature_importance(gain=False)[1] / (d.model.feature_importance(gain=False)[0] + 1e-9), results))"
   ]
  },
  {
   "cell_type": "code",
   "execution_count": null,
   "metadata": {
    "collapsed": false
   },
   "outputs": [],
   "source": [
    "results[6][2].model.tree"
   ]
  },
  {
   "cell_type": "markdown",
   "metadata": {
    "collapsed": false,
    "ein.tags": "worksheet-0",
    "slideshow": {
     "slide_type": "-"
    }
   },
   "source": [
    "# Causal Tree Test"
   ]
  },
  {
   "cell_type": "code",
   "execution_count": 55,
   "metadata": {
    "autoscroll": false,
    "collapsed": false,
    "ein.hycell": false,
    "ein.tags": "worksheet-0",
    "slideshow": {
     "slide_type": "-"
    }
   },
   "outputs": [],
   "source": [
    "from sklearn.model_selection import ParameterGrid\n",
    "from copy import deepcopy\n",
    "\n",
    "def make_nested_grid(params):\n",
    "    return ParameterGrid({ key: list(ParameterGrid(value))\n",
    "                           for key, value in params.items()})\n",
    "\n",
    "\n",
    "def _crossval_score(model, X, y, treatment, weights, splitter, fit_params, init_params):\n",
    "    model = deepcopy(model)\n",
    "    model.set_params(**init_params)\n",
    "    scores = []\n",
    "\n",
    "    for train_idx, test_idx in splitter.split(X, treatment):\n",
    "        model.fit(X[train_idx, :], \n",
    "                  y[train_idx], \n",
    "                  treatment = treatment[train_idx], \n",
    "                  sample_weight = weights[train_idx],\n",
    "                  **fit_params)\n",
    "\n",
    "        score = model.score(X[test_idx, :],\n",
    "                            y[test_idx], \n",
    "                            treatment = treatment[test_idx], \n",
    "                            sample_weight = weights[test_idx],\n",
    "                            **fit_params)\n",
    "            \n",
    "        scores.append(score)\n",
    "    \n",
    "    return np.mean(scores)\n",
    "\n",
    "from joblib import Parallel, delayed\n",
    "\n",
    "def model_search(model, X, y, treatment, weights, init_params, fit_params, splitter, n_jobs = -1):\n",
    "    grid = make_nested_grid({'fit_params': fit_params, \n",
    "                             'init_params': init_params})\n",
    "\n",
    "    all_scores = Parallel(n_jobs=n_jobs)(delayed(_crossval_score)(model, X, y, treatment, weights, splitter, **g) for g in grid)\n",
    "    # all_scores = [_crossval_score(model, X, y, treatment, weights, splitter, **g) for g in grid]\n",
    "\n",
    "    return list(zip(grid, all_scores))   "
   ]
  },
  {
   "cell_type": "code",
   "execution_count": 246,
   "metadata": {
    "autoscroll": false,
    "collapsed": false,
    "ein.hycell": false,
    "ein.tags": "worksheet-0",
    "slideshow": {
     "slide_type": "-"
    }
   },
   "outputs": [],
   "source": [
    "def eta(X):\n",
    "    return 0.5 * X[:, 0] + X[:, 1]\n",
    "\n",
    "def kappa(X):\n",
    "    return 0.5 * X[:, 0]\n",
    "\n",
    "def gen_y(X, w):\n",
    "    return eta(X) + 0.5 * (2*w - 1) * kappa(X) + np.random.normal(0, 0.01)\n",
    "\n",
    "N = 1000\n",
    "S = round(N/2)\n",
    "X = np.random.normal(0, 1, (N, 6))\n",
    "treatment = np.random.binomial(1, 0.5, N)\n",
    "y = gen_y(X, treatment)"
   ]
  },
  {
   "cell_type": "code",
   "execution_count": 247,
   "metadata": {
    "collapsed": false
   },
   "outputs": [],
   "source": [
    "# Dataset phi_source, phi_target (X)\n",
    "# "
   ]
  },
  {
   "cell_type": "code",
   "execution_count": 439,
   "metadata": {
    "collapsed": false
   },
   "outputs": [
    {
     "data": {
      "text/plain": [
       "<function __main__.fit_model(model, dat: simulation.Dataset)>"
      ]
     },
     "execution_count": 439,
     "metadata": {},
     "output_type": "execute_result"
    }
   ],
   "source": []
  },
  {
   "cell_type": "code",
   "execution_count": 74,
   "metadata": {
    "autoscroll": false,
    "collapsed": false,
    "ein.hycell": false,
    "ein.tags": "worksheet-0",
    "slideshow": {
     "slide_type": "-"
    }
   },
   "outputs": [],
   "source": [
    "from simulation import Dataset, Ctx\n",
    "\n",
    "def eta(X):\n",
    "    return 0.5 * np.sum(X[:, :2], axis=1) + np.sum(X[:, 2:], axis=1)\n",
    "\n",
    "def kappa(X):\n",
    "    return np.sum(X[:, :2] * (X[:, :2] > 0).astype(int), axis=1)\n",
    "\n",
    "def gen_y(X, w):\n",
    "    return eta(X) + 0.5 * (2*w - 1) * kappa(X) + np.random.normal(0, 0.5, size = X.shape[0])\n",
    "\n",
    "\n",
    "def causal_trees_simulation(S, N):\n",
    "    X = np.random.normal(0, 1, (N, 6))\n",
    "    treatment = np.random.binomial(1, 0.5, N)\n",
    "    weights = np.ones(N)\n",
    "    taus = kappa(X)\n",
    "    y = gen_y(X, treatment)\n",
    "\n",
    "    split = lambda arr: (arr[:S], arr[S:])\n",
    "    \n",
    "    return Dataset(Ctx(*split(X)), Ctx(*split(y)), treatment[:S], np.zeros(S), Ctx(*split(taus)))\n"
   ]
  },
  {
   "cell_type": "code",
   "execution_count": null,
   "metadata": {
    "autoscroll": false,
    "collapsed": false,
    "ein.hycell": false,
    "ein.tags": "worksheet-0",
    "slideshow": {
     "slide_type": "-"
    }
   },
   "outputs": [],
   "source": [
    "sim_dat = pd.concat([pd.DataFrame(X, columns = range(1, 7)), \n",
    "                     pd.DataFrame({ 'y': y, 'treatment': treatment, 'tau': kappa(X)})], axis=1)\n",
    "\n",
    "sim_dat.to_csv('sim_dat-2.csv', index=False)"
   ]
  },
  {
   "cell_type": "code",
   "execution_count": 376,
   "metadata": {
    "autoscroll": false,
    "collapsed": false,
    "ein.hycell": false,
    "ein.tags": "worksheet-0",
    "slideshow": {
     "slide_type": "-"
    }
   },
   "outputs": [],
   "source": [
    "# idx = np.arange(X.shape[0])\n",
    "# np.random.shuffle(idx)\n",
    "\n",
    "# treatment = treatment[idx]\n",
    "# X = X[idx, :]\n",
    "# y = y[idx]"
   ]
  },
  {
   "cell_type": "code",
   "execution_count": null,
   "metadata": {
    "autoscroll": false,
    "collapsed": false,
    "ein.hycell": false,
    "ein.tags": "worksheet-0",
    "slideshow": {
     "slide_type": "-"
    }
   },
   "outputs": [],
   "source": [
    "%%time\n",
    "\n",
    "from sklearn.model_selection import StratifiedKFold\n",
    "cv = StratifiedKFold(n_splits = 3)\n",
    "\n",
    "model = TransferTreeRegressor(criterion = causal_tree_criterion, \n",
    "                              min_samples_leaf = 10,\n",
    "                              alpha = 0.1, \n",
    "                              honest = False)\n",
    "\n",
    "fit_params = {'min_samples': [25] }\n",
    "init_params = {'alpha': [ -.1, -0.05, -0.01, 0.0, 0.01, 0.05, 0.1, 0.4 ], 'honest': [True] }\n",
    "\n",
    "results = model_search(model, X[:S], y[:S], treatment[:S], weights[:S], init_params, fit_params, cv)\n",
    "\n",
    "best_params = sorted(results, key = lambda t: t[1])[0][0]['init_params']\n",
    "\n",
    "best_params"
   ]
  },
  {
   "cell_type": "code",
   "execution_count": 75,
   "metadata": {
    "collapsed": false
   },
   "outputs": [],
   "source": [
    "models = [\n",
    "    ('causal-tree', \n",
    "     TransferTreeRegressor(criterion = causal_tree_criterion, \n",
    "                           min_samples_leaf = 50,\n",
    "                           alpha = None),\n",
    "\n",
    "     lambda dat: {'X': dat.phi.source, \n",
    "                  'y':dat.y.source, \n",
    "                  'treatment': dat.treatment, \n",
    "                  'min_samples': 25,\n",
    "                  'honest': True,\n",
    "                  'var_weight': 0.5}),\n",
    "\n",
    "    ('causal-tree-no-var', \n",
    "     TransferTreeRegressor(criterion = causal_tree_criterion, \n",
    "                           min_samples_leaf = 50,\n",
    "                           alpha = None),\n",
    "\n",
    "     lambda dat: {'X': dat.phi.source, \n",
    "                  'y':dat.y.source, \n",
    "                  'treatment': dat.treatment, \n",
    "                  'min_samples': 25,\n",
    "                  'honest': True,\n",
    "                  'var_weight': 0.0}),\n",
    "\n",
    "    # ('transfer-tree', \n",
    "    #  TransferTreeRegressor(criterion = transfer, \n",
    "    #                        min_samples_leaf = 50,\n",
    "    #                        alpha = None),\n",
    "\n",
    "    #  lambda dat: {'X': dat.phi.source, \n",
    "    #               'y': dat.y.source, \n",
    "    #               'treatment': dat.treatment, \n",
    "    #               'min_samples': 25,\n",
    "    #               'honest': True,\n",
    "    #               'var_weight': 0.5, \n",
    "    #               'context_idxs': dat.context_idxs, \n",
    "    #               'target_X': dat.phi.target, \n",
    "    #               'importance': False})   \n",
    "]"
   ]
  },
  {
   "cell_type": "code",
   "execution_count": 76,
   "metadata": {
    "collapsed": false
   },
   "outputs": [],
   "source": [
    "def run_causal_trees(models, **params):\n",
    "    data = causal_trees_simulation(**params)\n",
    "    return [fit_model(model, data) for model in models]"
   ]
  },
  {
   "cell_type": "code",
   "execution_count": 89,
   "metadata": {
    "collapsed": false
   },
   "outputs": [],
   "source": [
    "params = { 'S': 500, 'N': 8000 }\n",
    "\n",
    "results = Parallel(n_jobs=-1)(delayed(run_causal_trees)(models, **params) for i in range(100))"
   ]
  },
  {
   "cell_type": "code",
   "execution_count": 90,
   "metadata": {
    "collapsed": false
   },
   "outputs": [
    {
     "data": {
      "image/png": "[encoded data removed]",
      "text/plain": [
       "<Figure size 1008x180 with 1 Axes>"
      ]
     },
     "metadata": {
      "needs_background": "light"
     },
     "output_type": "display_data"
    }
   ],
   "source": [
    "plot_dist(pick(lambda m: m.r2, results))"
   ]
  },
  {
   "cell_type": "code",
   "execution_count": 91,
   "metadata": {
    "collapsed": false
   },
   "outputs": [
    {
     "data": {
      "text/html": [
       "<div>\n",
       "<style scoped>\n",
       "    .dataframe tbody tr th:only-of-type {\n",
       "        vertical-align: middle;\n",
       "    }\n",
       "\n",
       "    .dataframe tbody tr th {\n",
       "        vertical-align: top;\n",
       "    }\n",
       "\n",
       "    .dataframe thead th {\n",
       "        text-align: right;\n",
       "    }\n",
       "</style>\n",
       "<table border=\"1\" class=\"dataframe\">\n",
       "  <thead>\n",
       "    <tr style=\"text-align: right;\">\n",
       "      <th></th>\n",
       "      <th>value</th>\n",
       "    </tr>\n",
       "    <tr>\n",
       "      <th>model</th>\n",
       "      <th></th>\n",
       "    </tr>\n",
       "  </thead>\n",
       "  <tbody>\n",
       "    <tr>\n",
       "      <th>causal-tree</th>\n",
       "      <td>-0.023311</td>\n",
       "    </tr>\n",
       "    <tr>\n",
       "      <th>causal-tree-no-var</th>\n",
       "      <td>-0.012264</td>\n",
       "    </tr>\n",
       "  </tbody>\n",
       "</table>\n",
       "</div>"
      ],
      "text/plain": [
       "                       value\n",
       "model                       \n",
       "causal-tree        -0.023311\n",
       "causal-tree-no-var -0.012264"
      ]
     },
     "execution_count": 91,
     "metadata": {},
     "output_type": "execute_result"
    }
   ],
   "source": [
    "pick(lambda m: m.r2, results).groupby('model').quantile(.5)"
   ]
  },
  {
   "cell_type": "code",
   "execution_count": 92,
   "metadata": {
    "collapsed": false
   },
   "outputs": [
    {
     "data": {
      "text/html": [
       "<div>\n",
       "<style scoped>\n",
       "    .dataframe tbody tr th:only-of-type {\n",
       "        vertical-align: middle;\n",
       "    }\n",
       "\n",
       "    .dataframe tbody tr th {\n",
       "        vertical-align: top;\n",
       "    }\n",
       "\n",
       "    .dataframe thead th {\n",
       "        text-align: right;\n",
       "    }\n",
       "</style>\n",
       "<table border=\"1\" class=\"dataframe\">\n",
       "  <thead>\n",
       "    <tr style=\"text-align: right;\">\n",
       "      <th></th>\n",
       "      <th>value</th>\n",
       "    </tr>\n",
       "    <tr>\n",
       "      <th>model</th>\n",
       "      <th></th>\n",
       "    </tr>\n",
       "  </thead>\n",
       "  <tbody>\n",
       "    <tr>\n",
       "      <th>causal-tree</th>\n",
       "      <td>-0.075046</td>\n",
       "    </tr>\n",
       "    <tr>\n",
       "      <th>causal-tree-no-var</th>\n",
       "      <td>-0.092913</td>\n",
       "    </tr>\n",
       "  </tbody>\n",
       "</table>\n",
       "</div>"
      ],
      "text/plain": [
       "                       value\n",
       "model                       \n",
       "causal-tree        -0.075046\n",
       "causal-tree-no-var -0.092913"
      ]
     },
     "execution_count": 92,
     "metadata": {},
     "output_type": "execute_result"
    }
   ],
   "source": [
    "pick(lambda m: m.r2, results).groupby('model').mean()"
   ]
  },
  {
   "cell_type": "code",
   "execution_count": null,
   "metadata": {
    "collapsed": false
   },
   "outputs": [],
   "source": []
  },
  {
   "cell_type": "code",
   "execution_count": null,
   "metadata": {
    "autoscroll": false,
    "collapsed": false,
    "ein.hycell": false,
    "ein.tags": "worksheet-0",
    "slideshow": {
     "slide_type": "-"
    }
   },
   "outputs": [],
   "source": [
    "model = TransferTreeRegressor(criterion = mse, max_depth = 5, min_samples_leaf = 10)\n",
    "\n",
    "model.fit(phi(X), y, sample_weight = weights)\n",
    "preds = model.predict(phi(X))\n",
    "# np.mean((preds - y)**2)\n",
    "\n",
    "np.histogram(preds)"
   ]
  },
  {
   "cell_type": "code",
   "execution_count": 60,
   "metadata": {
    "autoscroll": false,
    "collapsed": false,
    "ein.hycell": false,
    "ein.tags": "worksheet-0",
    "slideshow": {
     "slide_type": "-"
    }
   },
   "outputs": [
    {
     "data": {
      "text/plain": [
       "(array([  15,    0,   41,   23,   95,   47,   87,  103,  406, 1183]),\n",
       " array([-129.40835129, -116.21549089, -103.02263049,  -89.82977009,\n",
       "         -76.63690969,  -63.44404929,  -50.25118889,  -37.05832849,\n",
       "         -23.86546809,  -10.67260769,    2.52025272]))"
      ]
     },
     "execution_count": 60,
     "metadata": {},
     "output_type": "execute_result"
    }
   ],
   "source": [
    "from sklearn.tree import DecisionTreeRegressor\n",
    "model = DecisionTreeRegressor(max_depth=5, min_samples_leaf=10)\n",
    "\n",
    "model.fit(phi(X), y, sample_weight = weights)\n",
    "preds = model.predict(phi(X))\n",
    "np.mean((preds - y)**2)"
   ]
  },
  {
   "cell_type": "code",
   "execution_count": 34,
   "metadata": {
    "autoscroll": false,
    "collapsed": false,
    "ein.hycell": false,
    "ein.tags": "worksheet-0",
    "slideshow": {
     "slide_type": "-"
    }
   },
   "outputs": [
    {
     "data": {
      "text/plain": [
       "array([ 0.3661, 20.3762,  0.4404,  7.6768])"
      ]
     },
     "execution_count": 34,
     "metadata": {},
     "output_type": "execute_result"
    }
   ],
   "source": [
    "model = DecisionTreeRegressor(max_depth=4, min_samples_leaf=20)\n",
    "\n",
    "np.mean(np.array([run_model(dat, model, phi, 0, 3, use_weights = None, model_search = True) for i in range(10)]), 0)"
   ]
  },
  {
   "cell_type": "code",
   "execution_count": 35,
   "metadata": {
    "autoscroll": false,
    "collapsed": false,
    "ein.hycell": false,
    "ein.tags": "worksheet-0",
    "slideshow": {
     "slide_type": "-"
    }
   },
   "outputs": [
    {
     "data": {
      "text/plain": [
       "array([ 0.3656, 41.3072, 15.5   ,  1.5563])"
      ]
     },
     "execution_count": 35,
     "metadata": {},
     "output_type": "execute_result"
    }
   ],
   "source": [
    "np.mean(np.array([run_model(dat, model, phi, 0, 3, use_weights = None, model_search = False) for i in range(10)]), 0)"
   ]
  },
  {
   "cell_type": "code",
   "execution_count": 36,
   "metadata": {
    "autoscroll": false,
    "collapsed": false,
    "ein.hycell": false,
    "ein.tags": "worksheet-0",
    "slideshow": {
     "slide_type": "-"
    }
   },
   "outputs": [
    {
     "data": {
      "text/plain": [
       "array([11.7473, 32.487 , 11.613 ,  4.5725])"
      ]
     },
     "execution_count": 36,
     "metadata": {},
     "output_type": "execute_result"
    }
   ],
   "source": [
    "np.mean(np.array([run_model(dat, model, phi, 0, 3, use_weights = 1, model_search = True) for i in range(10)]), 0)"
   ]
  },
  {
   "cell_type": "code",
   "execution_count": 37,
   "metadata": {
    "autoscroll": false,
    "collapsed": false,
    "ein.hycell": false,
    "ein.tags": "worksheet-0",
    "slideshow": {
     "slide_type": "-"
    }
   },
   "outputs": [
    {
     "data": {
      "text/plain": [
       "array([12.42759, 25.75614,  5.67631,  3.50874])"
      ]
     },
     "execution_count": 37,
     "metadata": {},
     "output_type": "execute_result"
    }
   ],
   "source": [
    "np.mean(np.array([run_model(dat, model, phi, 0, 3, use_weights = 1, model_search = False) for i in range(10)]), 0)"
   ]
  },
  {
   "cell_type": "code",
   "execution_count": 38,
   "metadata": {
    "autoscroll": false,
    "collapsed": false,
    "ein.hycell": false,
    "ein.tags": "worksheet-0",
    "slideshow": {
     "slide_type": "-"
    }
   },
   "outputs": [
    {
     "data": {
      "text/plain": [
       "array([ 0.3661, 20.3762,  0.4404,  7.6768])"
      ]
     },
     "execution_count": 38,
     "metadata": {},
     "output_type": "execute_result"
    }
   ],
   "source": [
    "model = TransferTreeRegressor(criterion=mse, max_depth=4, min_samples_leaf=20)\n",
    "\n",
    "np.mean(np.array([run_model(dat, model, phi, 0, 3, use_weights = None, model_search = True) for i in range(10)]), 0)"
   ]
  },
  {
   "cell_type": "code",
   "execution_count": 39,
   "metadata": {
    "autoscroll": false,
    "collapsed": false,
    "ein.hycell": false,
    "ein.tags": "worksheet-0",
    "slideshow": {
     "slide_type": "-"
    }
   },
   "outputs": [
    {
     "data": {
      "text/plain": [
       "array([ 0.3656, 41.3072, 15.5   ,  1.5563])"
      ]
     },
     "execution_count": 39,
     "metadata": {},
     "output_type": "execute_result"
    }
   ],
   "source": [
    "np.mean(np.array([run_model(dat, model, phi, 0, 3, use_weights = None, model_search = False) for i in range(10)]), 0)"
   ]
  },
  {
   "cell_type": "code",
   "execution_count": 52,
   "metadata": {
    "autoscroll": false,
    "collapsed": false,
    "ein.hycell": false,
    "ein.tags": "worksheet-0",
    "slideshow": {
     "slide_type": "-"
    }
   },
   "outputs": [
    {
     "data": {
      "text/plain": [
       "array([11.3818, 32.1958, 11.2033,  3.5604])"
      ]
     },
     "execution_count": 52,
     "metadata": {},
     "output_type": "execute_result"
    }
   ],
   "source": [
    "np.mean(np.array([run_model(dat, model, phi, 0, 3, use_weights = 1, model_search = True) for i in range(10)]), 0)"
   ]
  },
  {
   "cell_type": "code",
   "execution_count": 51,
   "metadata": {
    "autoscroll": false,
    "collapsed": false,
    "ein.hycell": false,
    "ein.tags": "worksheet-0",
    "slideshow": {
     "slide_type": "-"
    }
   },
   "outputs": [
    {
     "data": {
      "text/plain": [
       "array([10.9098,  4.9235,  3.2745,  3.7268])"
      ]
     },
     "execution_count": 51,
     "metadata": {},
     "output_type": "execute_result"
    }
   ],
   "source": [
    "np.mean(np.array([run_model(dat, model, phi, 0, 3, use_weights = 1, model_search = False) for i in range(10)]), 0)"
   ]
  },
  {
   "cell_type": "code",
   "execution_count": 42,
   "metadata": {
    "autoscroll": false,
    "collapsed": false,
    "ein.hycell": false,
    "ein.tags": "worksheet-0",
    "slideshow": {
     "slide_type": "-"
    }
   },
   "outputs": [
    {
     "data": {
      "text/plain": [
       "[0.3605, 21.2762, 16.201, 7.1304]"
      ]
     },
     "execution_count": 42,
     "metadata": {},
     "output_type": "execute_result"
    }
   ],
   "source": [
    "model = LinearRegression(fit_intercept=False)\n",
    "run_model(dat, model, phi, 0, 1, use_weights = None, model_search = False)"
   ]
  },
  {
   "cell_type": "code",
   "execution_count": 31,
   "metadata": {
    "autoscroll": false,
    "collapsed": false,
    "ein.hycell": false,
    "ein.tags": "worksheet-0",
    "slideshow": {
     "slide_type": "-"
    }
   },
   "outputs": [
    {
     "data": {
      "text/plain": [
       "[0.4141, 20.8479, 0.2354, 6.2956]"
      ]
     },
     "execution_count": 31,
     "metadata": {},
     "output_type": "execute_result"
    }
   ],
   "source": [
    "run_model(dat, model, phi, 0, 3, use_weights = None, model_search = True)"
   ]
  },
  {
   "cell_type": "code",
   "execution_count": 32,
   "metadata": {
    "autoscroll": false,
    "collapsed": false,
    "ein.hycell": false,
    "ein.tags": "worksheet-0",
    "slideshow": {
     "slide_type": "-"
    }
   },
   "outputs": [
    {
     "data": {
      "text/plain": [
       "[12.3876, 41.752, 16.8672, 4.4122]"
      ]
     },
     "execution_count": 32,
     "metadata": {},
     "output_type": "execute_result"
    }
   ],
   "source": [
    "run_model(dat, model, phi, 0, 1, use_weights = 1, model_search = False)"
   ]
  },
  {
   "cell_type": "code",
   "execution_count": 33,
   "metadata": {
    "autoscroll": false,
    "collapsed": false,
    "ein.hycell": false,
    "ein.tags": "worksheet-0",
    "slideshow": {
     "slide_type": "-"
    }
   },
   "outputs": [
    {
     "data": {
      "text/plain": [
       "[11.362, 31.8239, 11.2857, 4.7136]"
      ]
     },
     "execution_count": 33,
     "metadata": {},
     "output_type": "execute_result"
    }
   ],
   "source": [
    "run_model(dat, model, phi, 0, 3, use_weights = 1, model_search = True)"
   ]
  },
  {
   "cell_type": "code",
   "execution_count": 1802,
   "metadata": {
    "autoscroll": false,
    "collapsed": false,
    "ein.hycell": false,
    "ein.tags": "worksheet-0",
    "slideshow": {
     "slide_type": "-"
    }
   },
   "outputs": [],
   "source": [
    "# get residuals for \"sets\" separately\n",
    "# compute distance between residuals\n",
    "# optimize squared errors + penalty for residual distance\n",
    "\n",
    "# search for \"sets\" by looking at residuals and fitting a mixture model\n",
    "# then optimize to remove that mixture...\n",
    "\n",
    "# set up an adversarial problem: the adversary tries to find a \n",
    "# mixture model in your reiduals, the classifier tries to make force the\n",
    "# adversary to fit a 1-component mixture, for example... "
   ]
  },
  {
   "cell_type": "code",
   "execution_count": null,
   "metadata": {
    "autoscroll": false,
    "collapsed": false,
    "ein.hycell": false,
    "ein.tags": "worksheet-0",
    "slideshow": {
     "slide_type": "-"
    }
   },
   "outputs": [],
   "source": []
  }
 ],
 "metadata": {
  "kernelspec": {
   "argv": [
    "python",
    "-m",
    "ipykernel_launcher",
    "-f",
    "{connection_file}"
   ],
   "display_name": "Python 3",
   "env": null,
   "interrupt_mode": "signal",
   "language": "python",
   "metadata": null,
   "name": "python3"
  },
  "language_info": {
   "codemirror_mode": {
    "name": "ipython",
    "version": 3
   },
   "file_extension": ".py",
   "mimetype": "text/x-python",
   "name": "python",
   "nbconvert_exporter": "python",
   "pygments_lexer": "ipython3",
   "version": "3.8.2"
  },
  "name": "simulate.ipynb"
 },
 "nbformat": 4,
 "nbformat_minor": 2
}
