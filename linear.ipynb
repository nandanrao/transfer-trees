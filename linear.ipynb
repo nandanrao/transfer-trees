{
 "cells": [
  {
   "cell_type": "code",
   "execution_count": 5,
   "metadata": {
    "autoscroll": false,
    "collapsed": false,
    "ein.hycell": false,
    "ein.tags": "worksheet-0",
    "slideshow": {
     "slide_type": "-"
    }
   },
   "outputs": [],
   "source": [
    "! pip install --user --quiet torch"
   ]
  },
  {
   "cell_type": "code",
   "execution_count": 211,
   "metadata": {
    "autoscroll": false,
    "collapsed": false,
    "ein.hycell": false,
    "ein.tags": "worksheet-0",
    "slideshow": {
     "slide_type": "-"
    }
   },
   "outputs": [],
   "source": [
    "import torch\n",
    "import random\n",
    "import numpy as np\n",
    "from torch import nn\n",
    "from sklearn.metrics import mean_squared_error"
   ]
  },
  {
   "cell_type": "code",
   "execution_count": 212,
   "metadata": {
    "autoscroll": false,
    "collapsed": false,
    "ein.hycell": false,
    "ein.tags": "worksheet-0",
    "slideshow": {
     "slide_type": "-"
    }
   },
   "outputs": [],
   "source": [
    "from torch import nn\n",
    "import torch.nn.functional as F\n",
    "\n",
    "# def _pool_coefs(betas, weights):\n",
    "#     D = betas.shape[0]\n",
    "#     S = torch.matmul(betas.T, weights)\n",
    "#     return S.repeat(D)\n",
    "\n",
    "class LinearTransfer(torch.nn.Module):\n",
    "    def __init__(self, P, alpha):\n",
    "        # shape is (number of contexts, P)\n",
    "        super().__init__()\n",
    "        self.model = nn.Linear(P, 1, bias=False)\n",
    "        self.alpha = alpha\n",
    "\n",
    "    def forward(self, X):\n",
    "        return self.model(X)\n",
    "\n",
    "    def evaluate(self, X, taus):\n",
    "        tau_hat = self.forward(X).flatten()\n",
    "\n",
    "        cross_exp = ((taus * tau_hat)).mean()\n",
    "        penalty = (tau_hat**2).mean()\n",
    "\n",
    "        reg = self.alpha*(self.model.weight).abs().sum()\n",
    "        # reg = 0\n",
    "\n",
    "        loss = -2*cross_exp + penalty + reg\n",
    "        return loss"
   ]
  },
  {
   "cell_type": "code",
   "execution_count": 213,
   "metadata": {
    "autoscroll": false,
    "collapsed": false,
    "ein.hycell": false,
    "ein.tags": "worksheet-0",
    "slideshow": {
     "slide_type": "-"
    }
   },
   "outputs": [],
   "source": [
    "from torch.utils.data import IterableDataset, Dataset\n",
    "\n",
    "# def expand_data(x, i, num_classes):\n",
    "#     D = num_classes - 1\n",
    "#     if i > D:\n",
    "#         raise Exception('index out of range for num_classes')\n",
    "\n",
    "#     P = x.shape[0]\n",
    "#     left = i*P\n",
    "#     right = (D - i)*P\n",
    "#     return F.pad(x, (left, right))\n",
    "\n",
    "# def prep_data(dat, num_classes):\n",
    "#     return torch.stack([expand_data(torch.tensor(x, dtype=torch.float32), idx, num_classes) \n",
    "#                         for x,idx in dat])\n",
    "\n",
    "# class TransferData(IterableDataset):\n",
    "#     def __init__(self, X, contexts):\n",
    "#         self.dat = zip(X, contexts)\n",
    "#         self.num_contexts = np.unique(contexts).shape[0]\n",
    "\n",
    "#     def __iter__(self):\n",
    "#         return iter(prep_data(self.dat, self.num_contexts))\n",
    "\n",
    "class TransferData(Dataset):\n",
    "    def __init__(self, dat):\n",
    "        self.dat = [(torch.tensor(x, dtype=torch.float32), torch.tensor(t, dtype=torch.float32)) for x,t in dat]\n",
    "\n",
    "    def __getitem__(self, i):\n",
    "        return self.dat[i]\n",
    "\n",
    "    def __len__(self):\n",
    "        return len(self.dat)"
   ]
  },
  {
   "cell_type": "code",
   "execution_count": 214,
   "metadata": {
    "autoscroll": false,
    "collapsed": false,
    "ein.hycell": false,
    "ein.tags": "worksheet-0",
    "slideshow": {
     "slide_type": "-"
    }
   },
   "outputs": [],
   "source": [
    "from sklearn.linear_model import LinearRegression\n",
    "\n",
    "def est_y(X, y):\n",
    "    m = LinearRegression(fit_intercept=False)\n",
    "    m.fit(X, y)\n",
    "    return m\n",
    "\n",
    "\n",
    "def format_data(y, treatment, context_idx, X):\n",
    "    ids = np.unique(context_idx)\n",
    "    # models = {i: est_y(X[context_idx==i], y[context_idx == i]) for i in ids}\n",
    "    # return [(xx, models[ii].predict(xx.reshape(1, -1))) for yy,tt,ii,xx in zip(y, treatment, context_idx, X) if tt == 1]\n",
    "\n",
    "    means = {i: np.mean(y[(context_idx == i) & (treatment == 0)]) for i in ids}\n",
    "    return [(xx, yy - means[ii]) for yy,tt,ii,xx in zip(y, treatment, context_idx, X) if tt == 1]\n"
   ]
  },
  {
   "cell_type": "code",
   "execution_count": 217,
   "metadata": {
    "autoscroll": false,
    "collapsed": false,
    "ein.hycell": false,
    "ein.tags": "worksheet-0",
    "slideshow": {
     "slide_type": "-"
    }
   },
   "outputs": [],
   "source": [
    "from simulation import generate_data, split_out_dat\n",
    "\n",
    "\n",
    "from torch.utils.data import DataLoader\n",
    "from torch.optim import SGD, Adam\n",
    "\n",
    "def train(net, opt, ds):\n",
    "    epochs = 100\n",
    "    prev_loss = 0\n",
    "    for i in range(epochs):\n",
    "        data = DataLoader(ds, batch_size=100, shuffle=True)\n",
    "        epoch_loss = 0\n",
    "        for j,batch in enumerate(data):\n",
    "            X, t = batch\n",
    "            loss = net.evaluate(X, t)\n",
    "            epoch_loss += loss\n",
    "            loss.backward()\n",
    "            opt.step()\n",
    "            opt.zero_grad()\n",
    "\n",
    "        if (epoch_loss - prev_loss).abs() < 0.1:\n",
    "            break\n",
    "        prev_loss = epoch_loss\n",
    "\n",
    "    print(net.model.weight)\n",
    "\n",
    "def lasso(ys_source, treatment, ds):\n",
    "    y = ys_source[treatment == 1]\n",
    "    X = np.array([x.numpy() for x,_ in ds])\n",
    "\n",
    "    mm = ElasticNet(alpha = .9, l1_ratio = 1.)\n",
    "    mm.fit(X, y)\n",
    "    return mm\n",
    "\n",
    "def fit_models(phi_source, phi_target, ys_source, treatment, context_idxs, taus_source, taus_target):\n",
    "    ds = TransferData(format_data(ys_source, treatment, context_idxs, phi_source))\n",
    "    net = LinearTransfer(2, 2.0)\n",
    "    opt = Adam(net.parameters(), lr=0.001)\n",
    "    train(net, opt, ds)\n",
    "\n",
    "    baseline = lasso(ys_source, treatment, ds)\n",
    "\n",
    "    b_preds = phi_target.dot(baseline.coef_)\n",
    "    t_preds = net(torch.tensor(phi_target, dtype=torch.float32)).reshape(-1).detach().numpy()\n",
    "\n",
    "    return (mean_squared_error(taus_target, t_preds), mean_squared_error(taus_target, b_preds)), (t_preds, b_preds), (net, baseline), (phi_source, phi_target, taus_source, taus_target, context_idxs)\n"
   ]
  },
  {
   "cell_type": "code",
   "execution_count": 221,
   "metadata": {
    "autoscroll": false,
    "collapsed": false,
    "ein.hycell": false,
    "ein.tags": "worksheet-0",
    "slideshow": {
     "slide_type": "-"
    }
   },
   "outputs": [],
   "source": [
    "def fn(h, v, z, w):\n",
    "    val = -w*h + 0.5*w*z + np.random.normal(0, 0.25, size = h.shape[0])\n",
    "    return val\n",
    "\n",
    "v_conds = [(-0.5,0,1), (1,1,.5), (0.5,2,1), (-1,2,1)]\n",
    "# v_conds = [(-0.5,0,1), (1,0,1), (0.5,0,1), (-1,2,1)]\n",
    "# v_conds = [(1,0,1)]*4\n",
    "hiddens = [(0,2)]*4\n",
    "z_conds = [(2,2), (4,2), (6,2), (0,2)]\n",
    "\n",
    "def runrun(N):\n",
    "    dat = generate_data(N,\n",
    "                    fn, \n",
    "                    hidden_cause = True, \n",
    "                    plot = False, \n",
    "                    hiddens = hiddens,\n",
    "                    v_conds = v_conds, \n",
    "                    z_conds = z_conds)\n",
    "\n",
    "    return fit_models(*split_out_dat(dat))"
   ]
  },
  {
   "cell_type": "code",
   "execution_count": 244,
   "metadata": {
    "autoscroll": false,
    "collapsed": false,
    "ein.hycell": false,
    "ein.tags": "worksheet-0",
    "slideshow": {
     "slide_type": "-"
    }
   },
   "outputs": [
    {
     "name": "stdout",
     "output_type": "stream",
     "text": [
      "Parameter containing:\n",
      "tensor([[-0.0039,  0.4227]], requires_grad=True)\n"
     ]
    },
    {
     "data": {
      "text/plain": [
       "-0.20425977643087503"
      ]
     },
     "execution_count": 244,
     "metadata": {},
     "output_type": "execute_result"
    }
   ],
   "source": [
    "scores, preds, models, datt = runrun(1000)\n",
    "\n",
    "ts, bs = scores\n",
    "(ts - bs)/bs"
   ]
  },
  {
   "cell_type": "code",
   "execution_count": 239,
   "metadata": {
    "autoscroll": false,
    "collapsed": false,
    "ein.hycell": false,
    "ein.tags": "worksheet-0",
    "slideshow": {
     "slide_type": "-"
    }
   },
   "outputs": [
    {
     "name": "stdout",
     "output_type": "stream",
     "text": [
      "-0.11952450835693613\n"
     ]
    },
    {
     "data": {
      "text/plain": [
       "<matplotlib.axes._subplots.AxesSubplot at 0x7fa9f42ab940>"
      ]
     },
     "execution_count": 239,
     "metadata": {},
     "output_type": "execute_result"
    },
    {
     "data": {
      "image/png": "[encoded data removed]",
      "text/plain": [
       "<Figure size 432x288 with 1 Axes>"
      ]
     },
     "metadata": {},
     "output_type": "display_data"
    }
   ],
   "source": [
    "from joblib import Parallel, delayed\n",
    "import seaborn as sns\n",
    "\n",
    "results = Parallel(n_jobs=-1)(delayed(runrun)(1000) for i in range(20))\n",
    "mse = [(t-c)/c for (t,c),_,(tt, ct),_ in results]\n",
    "print(np.mean(mse))\n",
    "sns.distplot(np.array(mse), bins = 20)"
   ]
  },
  {
   "cell_type": "code",
   "execution_count": 243,
   "metadata": {
    "autoscroll": false,
    "collapsed": false,
    "ein.hycell": false,
    "ein.tags": "worksheet-0",
    "slideshow": {
     "slide_type": "-"
    }
   },
   "outputs": [
    {
     "data": {
      "text/plain": [
       "<matplotlib.legend.Legend at 0x7fa9f4052820>"
      ]
     },
     "execution_count": 243,
     "metadata": {},
     "output_type": "execute_result"
    },
    {
     "data": {
      "image/png": "[encoded data removed]",
      "text/plain": [
       "<Figure size 432x288 with 1 Axes>"
      ]
     },
     "metadata": {},
     "output_type": "display_data"
    }
   ],
   "source": [
    "import matplotlib.pyplot as plt\n",
    "\n",
    "tau_var = [np.mean((np.mean(txx) - txx)**2) for _,_,_,(_,_,_,txx,_) in results]\n",
    "t_mse, c_mse = zip(*[(t,c) for (t,c),_,(tt, ct),_ in results])\n",
    "for lbl,d in zip(['transfer', 'lasso'], [[1-a/b for a,b in zip(t_mse, tau_var)], [1-a/b for a,b in zip(c_mse, tau_var)]]):\n",
    "    sns.distplot(d, label=lbl)\n",
    "plt.legend()"
   ]
  }
 ],
 "metadata": {
  "kernelspec": {
   "argv": [
    "python",
    "-m",
    "ipykernel_launcher",
    "-f",
    "{connection_file}"
   ],
   "display_name": "Python 3",
   "env": null,
   "interrupt_mode": "signal",
   "language": "python",
   "metadata": null,
   "name": "python3"
  },
  "name": "Untitled.ipynb"
 },
 "nbformat": 4,
 "nbformat_minor": 4
}
